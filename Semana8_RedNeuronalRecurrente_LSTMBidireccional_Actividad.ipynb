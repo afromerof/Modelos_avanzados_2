{
 "cells": [
  {
   "cell_type": "markdown",
   "metadata": {
    "id": "AS7ELMBhTzaq"
   },
   "source": [
    "## MIIA-4203 MODELOS AVANZADOS PARA ANÁLISIS DE DATOS II\n",
    "\n",
    "\n",
    "# Red neuronal recurrente: LSTM bidireccional\n",
    "\n",
    "## Actividad 8\n",
    "\n",
    "### Profesor: Camilo Franco (c.franco31@uniandes.edu.co)\n",
    "\n",
    "## Actividad en grupos\n",
    "### Nombres:\n",
    "\n",
    "                     Names                 User                Code\n",
    "       - Romero Fonseca Angela Fernanda       af.romerof     201819276       \n",
    "       - Juan Fernando Ortiz Serrano          jf.ortiz43     200623117\n",
    "       - Elquin Huertas Ramírez               e.huertas      201920061\n",
    "\n",
    "**Instrucciones:** Por favor escriba los nombres de los integrantes de su grupo. Esta actividad debe ser entregada a más tardar dentro de 8 días, con la respuesta para los ejercicios y preguntas en cada numeral.\n",
    "\n",
    "En este cuaderno vamos a implementar una red recurrente bi-direccional para la prediccion del sentimiento asociado con un comentario linguistico. Los comentarios con los que vamos a trabajar corresponden con opiniones sobre peliculas (https://ai.stanford.edu/~amaas/data/sentiment/)\n",
    "\n",
    "Finalmente tenemos un ejercicio donde podremos explorar distintos modelos de redes recurrentes (https://en.wikipedia.org/wiki/Recurrent_neural_network)\n",
    "\n",
    "Primero importemos las bibliotecas y paquetes que vamos a utilizar:"
   ]
  },
  {
   "cell_type": "code",
   "execution_count": null,
   "metadata": {
    "id": "G-B0EsXSTzar"
   },
   "outputs": [],
   "source": [
    "import numpy as np\n",
    "import keras\n",
    "from keras import layers\n",
    "from keras.models import load_model, Sequential\n",
    "\n",
    "import h5py\n",
    "import matplotlib.pyplot as plt\n",
    "from prettytable import PrettyTable\n",
    "\n",
    "from sklearn.model_selection import train_test_split\n",
    "from sklearn.metrics import confusion_matrix \n"
   ]
  },
  {
   "cell_type": "markdown",
   "metadata": {
    "id": "vWKdHWm_Tzaw"
   },
   "source": [
    "También definimos algunos parámetros para nuestra implementación, uno donde definimos el número máximo de términos a considerar (de todo nuestro vocabulario) y otro donde definimos la longitud máxima para un comentario:"
   ]
  },
  {
   "cell_type": "code",
   "execution_count": null,
   "metadata": {
    "id": "O2StiRWhTzax"
   },
   "outputs": [],
   "source": [
    "max_features = 20000  # Considera las 20000 palabras más populares\n",
    "maxlen = 200  # Considera las primeras 200 palabras de cada comentario"
   ]
  },
  {
   "cell_type": "markdown",
   "metadata": {
    "id": "F6IuhOkqTza3"
   },
   "source": [
    "Importemos los datos:"
   ]
  },
  {
   "cell_type": "code",
   "execution_count": null,
   "metadata": {
    "colab": {
     "base_uri": "https://localhost:8080/",
     "height": 85
    },
    "executionInfo": {
     "elapsed": 6839,
     "status": "ok",
     "timestamp": 1603056561529,
     "user": {
      "displayName": "Fernanda Romero",
      "photoUrl": "https://lh3.googleusercontent.com/a-/AOh14Ggn57zzeejaFpU7BqEy5vs9bWp0uHirxefVCGvkrQ=s64",
      "userId": "00184701712889740152"
     },
     "user_tz": 300
    },
    "id": "jzloNFZJTza5",
    "outputId": "e0d92967-51da-4992-e097-a9cb192c80a0"
   },
   "outputs": [
    {
     "name": "stdout",
     "output_type": "stream",
     "text": [
      "Downloading data from https://storage.googleapis.com/tensorflow/tf-keras-datasets/imdb.npz\n",
      "17465344/17464789 [==============================] - 0s 0us/step\n",
      "25000 secuencias de entrenamiento\n",
      "25000 secuencias de validación\n"
     ]
    }
   ],
   "source": [
    "(x_train, y_train), (x_val, y_val) = keras.datasets.imdb.load_data(\n",
    "    num_words=max_features)\n",
    "\n",
    "print(len(x_train), \"secuencias de entrenamiento\")\n",
    "print(len(x_val), \"secuencias de validación\")\n",
    "\n",
    "x_train = keras.preprocessing.sequence.pad_sequences(x_train, maxlen=maxlen)\n",
    "x_val = keras.preprocessing.sequence.pad_sequences(x_val, maxlen=maxlen)"
   ]
  },
  {
   "cell_type": "markdown",
   "metadata": {
    "id": "gJLZv9Z8Tza8"
   },
   "source": [
    "**Salida esperada:**\n",
    "\n",
    "25000 secuencias de entrenamiento\n",
    "\n",
    "25000 secuencias de validación"
   ]
  },
  {
   "cell_type": "markdown",
   "metadata": {
    "id": "3aPioHBOTza8"
   },
   "source": [
    "Veamos en qué consiste la primera observación de entrenamiento:"
   ]
  },
  {
   "cell_type": "code",
   "execution_count": null,
   "metadata": {
    "colab": {
     "base_uri": "https://localhost:8080/",
     "height": 408
    },
    "executionInfo": {
     "elapsed": 5857,
     "status": "ok",
     "timestamp": 1603056561533,
     "user": {
      "displayName": "Fernanda Romero",
      "photoUrl": "https://lh3.googleusercontent.com/a-/AOh14Ggn57zzeejaFpU7BqEy5vs9bWp0uHirxefVCGvkrQ=s64",
      "userId": "00184701712889740152"
     },
     "user_tz": 300
    },
    "id": "DKSMjZibTza9",
    "outputId": "542123ca-29f8-4f1e-d589-ab9f22448305"
   },
   "outputs": [
    {
     "data": {
      "text/plain": [
       "array([    5,    25,   100,    43,   838,   112,    50,   670,     2,\n",
       "           9,    35,   480,   284,     5,   150,     4,   172,   112,\n",
       "         167,     2,   336,   385,    39,     4,   172,  4536,  1111,\n",
       "          17,   546,    38,    13,   447,     4,   192,    50,    16,\n",
       "           6,   147,  2025,    19,    14,    22,     4,  1920,  4613,\n",
       "         469,     4,    22,    71,    87,    12,    16,    43,   530,\n",
       "          38,    76,    15,    13,  1247,     4,    22,    17,   515,\n",
       "          17,    12,    16,   626,    18, 19193,     5,    62,   386,\n",
       "          12,     8,   316,     8,   106,     5,     4,  2223,  5244,\n",
       "          16,   480,    66,  3785,    33,     4,   130,    12,    16,\n",
       "          38,   619,     5,    25,   124,    51,    36,   135,    48,\n",
       "          25,  1415,    33,     6,    22,    12,   215,    28,    77,\n",
       "          52,     5,    14,   407,    16,    82, 10311,     8,     4,\n",
       "         107,   117,  5952,    15,   256,     4,     2,     7,  3766,\n",
       "           5,   723,    36,    71,    43,   530,   476,    26,   400,\n",
       "         317,    46,     7,     4, 12118,  1029,    13,   104,    88,\n",
       "           4,   381,    15,   297,    98,    32,  2071,    56,    26,\n",
       "         141,     6,   194,  7486,    18,     4,   226,    22,    21,\n",
       "         134,   476,    26,   480,     5,   144,    30,  5535,    18,\n",
       "          51,    36,    28,   224,    92,    25,   104,     4,   226,\n",
       "          65,    16,    38,  1334,    88,    12,    16,   283,     5,\n",
       "          16,  4472,   113,   103,    32,    15,    16,  5345,    19,\n",
       "         178,    32], dtype=int32)"
      ]
     },
     "execution_count": 4,
     "metadata": {
      "tags": []
     },
     "output_type": "execute_result"
    }
   ],
   "source": [
    "x_train[0]"
   ]
  },
  {
   "cell_type": "markdown",
   "metadata": {
    "id": "Yp2WP6OhTzbA"
   },
   "source": [
    "Podemos reconstruir cada comentario de acuerdo con el índice de cada término:"
   ]
  },
  {
   "cell_type": "code",
   "execution_count": null,
   "metadata": {
    "colab": {
     "base_uri": "https://localhost:8080/",
     "height": 51
    },
    "executionInfo": {
     "elapsed": 5196,
     "status": "ok",
     "timestamp": 1603056561534,
     "user": {
      "displayName": "Fernanda Romero",
      "photoUrl": "https://lh3.googleusercontent.com/a-/AOh14Ggn57zzeejaFpU7BqEy5vs9bWp0uHirxefVCGvkrQ=s64",
      "userId": "00184701712889740152"
     },
     "user_tz": 300
    },
    "id": "r4qgfaO6TzbB",
    "outputId": "e673673a-db11-4075-c0f1-0a2ee22ec27c"
   },
   "outputs": [
    {
     "name": "stdout",
     "output_type": "stream",
     "text": [
      "Downloading data from https://storage.googleapis.com/tensorflow/tf-keras-datasets/imdb_word_index.json\n",
      "1646592/1641221 [==============================] - 0s 0us/step\n"
     ]
    }
   ],
   "source": [
    "L = keras.datasets.imdb.get_word_index(path=\"imdb_word_index.json\")\n",
    "\n",
    "L = {k:(v+3) for k,v in L.items()}\n",
    "L[\"<PAD>\"] = 0\n",
    "L[\"<START>\"] = 1\n",
    "L[\"<UNK>\"] = 2\n",
    "L[\"<UNUSED>\"] = 3\n",
    "\n",
    "L_palabra = {value:key for key,value in L.items()}"
   ]
  },
  {
   "cell_type": "markdown",
   "metadata": {
    "id": "bp2cUKlJTzbD"
   },
   "source": [
    "Veamos el primer comentario de entrenamiento que es positivo:"
   ]
  },
  {
   "cell_type": "code",
   "execution_count": null,
   "metadata": {
    "colab": {
     "base_uri": "https://localhost:8080/",
     "height": 71
    },
    "executionInfo": {
     "elapsed": 4510,
     "status": "ok",
     "timestamp": 1603056561535,
     "user": {
      "displayName": "Fernanda Romero",
      "photoUrl": "https://lh3.googleusercontent.com/a-/AOh14Ggn57zzeejaFpU7BqEy5vs9bWp0uHirxefVCGvkrQ=s64",
      "userId": "00184701712889740152"
     },
     "user_tz": 300
    },
    "id": "sA3mpaUQTzbE",
    "outputId": "112cde6f-b64e-4929-c0af-83290050cf33"
   },
   "outputs": [
    {
     "name": "stdout",
     "output_type": "stream",
     "text": [
      "El comentario:  and you could just imagine being there robert <UNK> is an amazing actor and now the same being director <UNK> father came from the same scottish island as myself so i loved the fact there was a real connection with this film the witty remarks throughout the film were great it was just brilliant so much that i bought the film as soon as it was released for retail and would recommend it to everyone to watch and the fly fishing was amazing really cried at the end it was so sad and you know what they say if you cry at a film it must have been good and this definitely was also congratulations to the two little boy's that played the <UNK> of norman and paul they were just brilliant children are often left out of the praising list i think because the stars that play them all grown up are such a big profile for the whole film but these children are amazing and should be praised for what they have done don't you think the whole story was so lovely because it was true and was someone's life after all that was shared with us all\n",
      "Tiene un sentimiento asociado:  1\n"
     ]
    }
   ],
   "source": [
    "print(\"El comentario: \", ' '.join(L_palabra[id] for id in x_train[0] ))\n",
    "print(\"Tiene un sentimiento asociado: \", y_train[0])"
   ]
  },
  {
   "cell_type": "markdown",
   "metadata": {
    "id": "-5z7juMaTzbH"
   },
   "source": [
    "O un comentario negativo:"
   ]
  },
  {
   "cell_type": "code",
   "execution_count": null,
   "metadata": {
    "colab": {
     "base_uri": "https://localhost:8080/",
     "height": 71
    },
    "executionInfo": {
     "elapsed": 3881,
     "status": "ok",
     "timestamp": 1603056561536,
     "user": {
      "displayName": "Fernanda Romero",
      "photoUrl": "https://lh3.googleusercontent.com/a-/AOh14Ggn57zzeejaFpU7BqEy5vs9bWp0uHirxefVCGvkrQ=s64",
      "userId": "00184701712889740152"
     },
     "user_tz": 300
    },
    "id": "YHjN5KHnTzbI",
    "outputId": "7c0746e2-2fbe-428a-a638-fc4df60fe33c"
   },
   "outputs": [
    {
     "name": "stdout",
     "output_type": "stream",
     "text": [
      "El comentario:  <PAD> <PAD> <PAD> <PAD> <PAD> <PAD> <PAD> <PAD> <PAD> <PAD> <PAD> <START> big hair big boobs bad music and a giant safety pin these are the words to best describe this terrible movie i love cheesy horror movies and i've seen hundreds but this had got to be on of the worst ever made the plot is paper thin and ridiculous the acting is an abomination the script is completely laughable the best is the end showdown with the cop and how he worked out who the killer is it's just so damn terribly written the clothes are sickening and funny in equal measures the hair is big lots of boobs bounce men wear those cut tee shirts that show off their <UNK> sickening that men actually wore them and the music is just <UNK> trash that plays over and over again in almost every scene there is trashy music boobs and <UNK> taking away bodies and the gym still doesn't close for <UNK> all joking aside this is a truly bad film whose only charm is to look back on the disaster that was the 80's and have a good old laugh at how bad everything was back then\n",
      "Tiene un sentimiento asociado:  0\n"
     ]
    }
   ],
   "source": [
    "print(\"El comentario: \", ' '.join(L_palabra[id] for id in x_train[1] ))\n",
    "print(\"Tiene un sentimiento asociado: \", y_train[1])"
   ]
  },
  {
   "cell_type": "markdown",
   "metadata": {
    "id": "G5HUWcg9TzbK"
   },
   "source": [
    "## 1. Red recurrente bi-direccional"
   ]
  },
  {
   "cell_type": "markdown",
   "metadata": {
    "id": "lHr3Hm0JTzbL"
   },
   "source": [
    "A continuación definimos la arquitectura de la red:"
   ]
  },
  {
   "cell_type": "code",
   "execution_count": null,
   "metadata": {
    "colab": {
     "base_uri": "https://localhost:8080/",
     "height": 323
    },
    "executionInfo": {
     "elapsed": 9375,
     "status": "ok",
     "timestamp": 1603056567980,
     "user": {
      "displayName": "Fernanda Romero",
      "photoUrl": "https://lh3.googleusercontent.com/a-/AOh14Ggn57zzeejaFpU7BqEy5vs9bWp0uHirxefVCGvkrQ=s64",
      "userId": "00184701712889740152"
     },
     "user_tz": 300
    },
    "id": "TUipV1Y6TzbL",
    "outputId": "ee92d24e-b83b-4da0-a3ea-4f10e7fb0ba2"
   },
   "outputs": [
    {
     "name": "stdout",
     "output_type": "stream",
     "text": [
      "Model: \"functional_1\"\n",
      "_________________________________________________________________\n",
      "Layer (type)                 Output Shape              Param #   \n",
      "=================================================================\n",
      "input_1 (InputLayer)         [(None, None)]            0         \n",
      "_________________________________________________________________\n",
      "embedding (Embedding)        (None, None, 128)         2560000   \n",
      "_________________________________________________________________\n",
      "bidirectional (Bidirectional (None, None, 128)         98816     \n",
      "_________________________________________________________________\n",
      "bidirectional_1 (Bidirection (None, 128)               98816     \n",
      "_________________________________________________________________\n",
      "dense (Dense)                (None, 1)                 129       \n",
      "=================================================================\n",
      "Total params: 2,757,761\n",
      "Trainable params: 2,757,761\n",
      "Non-trainable params: 0\n",
      "_________________________________________________________________\n"
     ]
    }
   ],
   "source": [
    "# Input con secuencias de enteros con longitud variable\n",
    "inputs = keras.Input(shape=(None,), dtype=\"int32\")\n",
    "\n",
    "# Conseguimos la representación vectorial (embedding) de cada entero en un vector 128-dimensional\n",
    "x = layers.Embedding(max_features, 128)(inputs)\n",
    "\n",
    "# Añadimos 2 unidades LSTM bidireccionales\n",
    "x = layers.Bidirectional(layers.LSTM(64, return_sequences=True))(x)\n",
    "x = layers.Bidirectional(layers.LSTM(64))(x)\n",
    "\n",
    "# Añadimos un clasificador binario en la salida\n",
    "outputs = layers.Dense(1, activation=\"sigmoid\")(x)\n",
    "\n",
    "# Gaurdamos la arquitectura del modelo\n",
    "model1 = keras.Model(inputs, outputs)\n",
    "model1.summary()"
   ]
  },
  {
   "cell_type": "code",
   "execution_count": null,
   "metadata": {
    "colab": {
     "base_uri": "https://localhost:8080/",
     "height": 493
    },
    "executionInfo": {
     "elapsed": 337672,
     "status": "ok",
     "timestamp": 1603056896596,
     "user": {
      "displayName": "Fernanda Romero",
      "photoUrl": "https://lh3.googleusercontent.com/a-/AOh14Ggn57zzeejaFpU7BqEy5vs9bWp0uHirxefVCGvkrQ=s64",
      "userId": "00184701712889740152"
     },
     "user_tz": 300
    },
    "id": "avKenhZqTzbO",
    "outputId": "11adde6d-7dc1-47cd-a3d2-6a73142344a3"
   },
   "outputs": [
    {
     "name": "stdout",
     "output_type": "stream",
     "text": [
      "Epoch 1/3\n",
      "391/391 [==============================] - 28s 72ms/step - loss: 0.4541 - accuracy: 0.7838 - val_loss: 0.3332 - val_accuracy: 0.8653\n",
      "Epoch 2/3\n",
      "391/391 [==============================] - 27s 68ms/step - loss: 0.2255 - accuracy: 0.9166 - val_loss: 0.3793 - val_accuracy: 0.8475\n",
      "Epoch 3/3\n",
      "391/391 [==============================] - 26s 68ms/step - loss: 0.1361 - accuracy: 0.9538 - val_loss: 0.4841 - val_accuracy: 0.8243\n",
      "Desempeño (exactitud): accu_v1=0.8243200182914734 , accu_v2=0.815280020236969\n",
      "Epoch 1/3\n",
      "391/391 [==============================] - 28s 72ms/step - loss: 0.2367 - accuracy: 0.9145 - val_loss: 0.2149 - val_accuracy: 0.9223\n",
      "Epoch 2/3\n",
      "391/391 [==============================] - 27s 69ms/step - loss: 0.1098 - accuracy: 0.9652 - val_loss: 0.3219 - val_accuracy: 0.9004\n",
      "Epoch 3/3\n",
      "391/391 [==============================] - 27s 69ms/step - loss: 0.0690 - accuracy: 0.9792 - val_loss: 0.3456 - val_accuracy: 0.8876\n",
      "Desempeño (exactitud): accu_v1=0.8876000046730042 , accu_v2=0.8342000246047974\n",
      "Epoch 1/3\n",
      "391/391 [==============================] - 28s 71ms/step - loss: 0.1722 - accuracy: 0.9415 - val_loss: 0.1592 - val_accuracy: 0.9438\n",
      "Epoch 2/3\n",
      "391/391 [==============================] - 26s 66ms/step - loss: 0.0774 - accuracy: 0.9758 - val_loss: 0.2224 - val_accuracy: 0.9247\n",
      "Epoch 3/3\n",
      "391/391 [==============================] - 27s 68ms/step - loss: 0.0564 - accuracy: 0.9813 - val_loss: 0.2243 - val_accuracy: 0.9311\n",
      "Desempeño (exactitud): accu_v1=0.931119978427887 , accu_v2=0.8407999873161316\n",
      "+--------+--------+--------+\n",
      "| Exac_E | Exac_V | Exac_P |\n",
      "+--------+--------+--------+\n",
      "| 0.9617 | 0.8243 | 0.8153 |\n",
      "| 0.9806 | 0.8876 | 0.8342 |\n",
      "| 0.9948 | 0.9311 | 0.8408 |\n",
      "+--------+--------+--------+\n"
     ]
    }
   ],
   "source": [
    "# Inicializamos la tabla donde guardamos los resultados\n",
    "x = PrettyTable([\"Exac_E\", \"Exac_V\", \"Exac_P\"])\n",
    "\n",
    "# Definimos el número máximo de iteraciones (épocas de la red)\n",
    "epocas=3\n",
    "\n",
    "# Definimos los parametros del Adam\n",
    "adam = keras.optimizers.Adam(lr=0.001, beta_1=0.9, beta_2=0.999)\n",
    "\n",
    "# Inicializamos el error \n",
    "err_p = 999\n",
    "\n",
    "for i in range(0,3,1):\n",
    "    r = i^3\n",
    "    CE_x, CV_x, CE_y, CV_y = train_test_split(x_train, y_train, test_size = 0.5, random_state = r)\n",
    "          \n",
    "    # Definimos el método de optimización con respecto a su funcion de pérdida (además guardamos la exactitud para cada iteracion)\n",
    "    model = keras.Model(inputs, outputs)\n",
    "    model.compile(loss='binary_crossentropy', optimizer=adam, metrics=['accuracy'])\n",
    "    \n",
    "    # Ajustamos el modelo\n",
    "    history=model.fit(x=CE_x, y=CE_y, epochs=epocas, validation_data=(CV_x, CV_y), verbose=1, shuffle=False)\n",
    "      \n",
    "    # Calculamos las metricas\n",
    "    train_metrics = model.evaluate(x=CE_x, y=CE_y, verbose=0)\n",
    "    valid_metrics = model.evaluate(x=CV_x, y=CV_y, verbose=0)\n",
    "    test_metrics = model.evaluate(x=x_val, y=y_val, verbose=0)\n",
    "    \n",
    "    # Guardamos las métricas de desempeño\n",
    "    accu_e = train_metrics[1]\n",
    "    loss_e = train_metrics[0]\n",
    "    accu_v = valid_metrics[1]\n",
    "    loss_v = valid_metrics[0]\n",
    "    accu_p = test_metrics[1]\n",
    "    loss_p = test_metrics[0]\n",
    "    \n",
    "    if (loss_p < err_p):\n",
    "        pathr =('BRNN_part='+str(r)+'.h5')\n",
    "        model.save(pathr) \n",
    "        err_p = loss_p\n",
    "    \n",
    "    # Imprimimos el desempeño para cada repetición\n",
    "    print('Desempeño (exactitud): accu_v1='+str(accu_v) +' , accu_v2='+str(accu_p))\n",
    "    \n",
    "    x.add_row([np.round(accu_e,4), np.round(accu_v,4), np.round(accu_p,4)])\n",
    "\n",
    "print(x)\n"
   ]
  },
  {
   "cell_type": "code",
   "execution_count": null,
   "metadata": {
    "colab": {
     "base_uri": "https://localhost:8080/",
     "height": 573
    },
    "executionInfo": {
     "elapsed": 337668,
     "status": "ok",
     "timestamp": 1603056896879,
     "user": {
      "displayName": "Fernanda Romero",
      "photoUrl": "https://lh3.googleusercontent.com/a-/AOh14Ggn57zzeejaFpU7BqEy5vs9bWp0uHirxefVCGvkrQ=s64",
      "userId": "00184701712889740152"
     },
     "user_tz": 300
    },
    "id": "d0VoMoJ7TzbS",
    "outputId": "5edf39d7-f664-4812-bb99-e51d40779995"
   },
   "outputs": [
    {
     "data": {
      "image/png": "[encoded data removed]",
      "text/plain": [
       "<Figure size 432x288 with 1 Axes>"
      ]
     },
     "metadata": {
      "needs_background": "light",
      "tags": []
     },
     "output_type": "display_data"
    },
    {
     "data": {
      "image/png": "[encoded data removed]",
      "text/plain": [
       "<Figure size 432x288 with 1 Axes>"
      ]
     },
     "metadata": {
      "needs_background": "light",
      "tags": []
     },
     "output_type": "display_data"
    }
   ],
   "source": [
    "plt.figure(1)\n",
    "plt.plot(history.history['accuracy'])  \n",
    "plt.plot(history.history['val_accuracy'])  \n",
    "plt.title('Exactitud')  \n",
    "plt.ylabel('Acc')  \n",
    "plt.xlabel('Epoca')  \n",
    "plt.legend(['Entreno', 'Validacion'], loc='lower right')\n",
    "plt.show()\n",
    "\n",
    "plt.figure(1) \n",
    "plt.plot(history.history['loss'])  \n",
    "plt.plot(history.history['val_loss'])  \n",
    "plt.title('Pérdida')  \n",
    "plt.ylabel('Pérdida')  \n",
    "plt.xlabel('Epoca')  \n",
    "plt.legend(['Entreno', 'Validación'], loc='upper right')  \n",
    "plt.show()"
   ]
  },
  {
   "cell_type": "markdown",
   "metadata": {
    "id": "057w7ra_TzbU"
   },
   "source": [
    "Recuperamos el mejor modelo:"
   ]
  },
  {
   "cell_type": "code",
   "execution_count": null,
   "metadata": {
    "colab": {
     "base_uri": "https://localhost:8080/",
     "height": 323
    },
    "executionInfo": {
     "elapsed": 337957,
     "status": "ok",
     "timestamp": 1603056897800,
     "user": {
      "displayName": "Fernanda Romero",
      "photoUrl": "https://lh3.googleusercontent.com/a-/AOh14Ggn57zzeejaFpU7BqEy5vs9bWp0uHirxefVCGvkrQ=s64",
      "userId": "00184701712889740152"
     },
     "user_tz": 300
    },
    "id": "2khxYPWNTzbU",
    "outputId": "9982bcb2-d70d-4d9f-9235-6c1861c2d67a"
   },
   "outputs": [
    {
     "name": "stdout",
     "output_type": "stream",
     "text": [
      "Model: \"functional_3\"\n",
      "_________________________________________________________________\n",
      "Layer (type)                 Output Shape              Param #   \n",
      "=================================================================\n",
      "input_1 (InputLayer)         [(None, None)]            0         \n",
      "_________________________________________________________________\n",
      "embedding (Embedding)        (None, None, 128)         2560000   \n",
      "_________________________________________________________________\n",
      "bidirectional (Bidirectional (None, None, 128)         98816     \n",
      "_________________________________________________________________\n",
      "bidirectional_1 (Bidirection (None, 128)               98816     \n",
      "_________________________________________________________________\n",
      "dense (Dense)                (None, 1)                 129       \n",
      "=================================================================\n",
      "Total params: 2,757,761\n",
      "Trainable params: 2,757,761\n",
      "Non-trainable params: 0\n",
      "_________________________________________________________________\n"
     ]
    }
   ],
   "source": [
    "# B-RNN LSTM\n",
    "model_brnn = load_model('BRNN_part=3.h5')\n",
    "\n",
    "model_brnn.summary()"
   ]
  },
  {
   "cell_type": "markdown",
   "metadata": {
    "id": "TaTWJW1dTzbX"
   },
   "source": [
    "Replicamos los resultados obtenidos anteriormente:"
   ]
  },
  {
   "cell_type": "code",
   "execution_count": null,
   "metadata": {
    "colab": {
     "base_uri": "https://localhost:8080/",
     "height": 68
    },
    "executionInfo": {
     "elapsed": 360271,
     "status": "ok",
     "timestamp": 1603056920744,
     "user": {
      "displayName": "Fernanda Romero",
      "photoUrl": "https://lh3.googleusercontent.com/a-/AOh14Ggn57zzeejaFpU7BqEy5vs9bWp0uHirxefVCGvkrQ=s64",
      "userId": "00184701712889740152"
     },
     "user_tz": 300
    },
    "id": "XqZSd7iKTzbY",
    "outputId": "f7661a69-e55e-4e20-a49c-8f032929ffb0"
   },
   "outputs": [
    {
     "name": "stdout",
     "output_type": "stream",
     "text": [
      "[[11861   639]\n",
      " [ 2036 10464]]\n",
      "Exactitud:  0.8930000066757202\n"
     ]
    }
   ],
   "source": [
    "Y_predt = model_brnn.predict(x_train)\n",
    "Y_predst = (Y_predt > 0.5)\n",
    "\n",
    "print(confusion_matrix(y_train, Y_predst))\n",
    "print(\"Exactitud: \", model_brnn.evaluate(x=x_train, y=y_train, verbose=0)[1])"
   ]
  },
  {
   "cell_type": "markdown",
   "metadata": {
    "id": "cBb0yEI2Tzbb"
   },
   "source": [
    "Reportamos el desempeño del modelo con los datos de prueba (fuera de la muestra):"
   ]
  },
  {
   "cell_type": "code",
   "execution_count": null,
   "metadata": {
    "colab": {
     "base_uri": "https://localhost:8080/",
     "height": 68
    },
    "executionInfo": {
     "elapsed": 380538,
     "status": "ok",
     "timestamp": 1603056941635,
     "user": {
      "displayName": "Fernanda Romero",
      "photoUrl": "https://lh3.googleusercontent.com/a-/AOh14Ggn57zzeejaFpU7BqEy5vs9bWp0uHirxefVCGvkrQ=s64",
      "userId": "00184701712889740152"
     },
     "user_tz": 300
    },
    "id": "0o1hGVVsTzbb",
    "outputId": "dc9b4f93-d2df-4ebe-8908-e65f5e01b0ca"
   },
   "outputs": [
    {
     "name": "stdout",
     "output_type": "stream",
     "text": [
      "[[11198  1302]\n",
      " [ 3316  9184]]\n",
      "Exactitud:  0.815280020236969\n"
     ]
    }
   ],
   "source": [
    "Y_predv = model_brnn.predict(x_val)\n",
    "Y_predsv = (Y_predv > 0.5)\n",
    "\n",
    "print(confusion_matrix(y_val, Y_predsv))\n",
    "print(\"Exactitud: \", model_brnn.evaluate(x=x_val, y=y_val, verbose=0)[1])"
   ]
  },
  {
   "cell_type": "markdown",
   "metadata": {
    "id": "lZfH9g59Tzbd"
   },
   "source": [
    "## Ejercicio 1.1\n",
    "\n",
    "Desarrolle un modelo de red neuronal recurrente uni-direccional para comparar los resultados obtenidos con esta red recurrente bi-direccional.\n",
    "\n",
    "Puede explorar una red recurrente simple, LSTM ó GRU, o cualquier otro tipo de red que desee explorar que contenga al menos una capa de tipo recurrente (ver por ejemplo: https://keras.io/api/layers/#recurrent-layers).\n",
    "\n",
    "Compare los resultados sobre los datos de prueba y analice el desempeño de su modelo."
   ]
  },
  {
   "cell_type": "markdown",
   "metadata": {
    "id": "q20zbZZ9Tzbe"
   },
   "source": [
    "#### Red recurrente simple LSTM "
   ]
  },
  {
   "cell_type": "markdown",
   "metadata": {
    "id": "4hnRsW_mSzPE"
   },
   "source": [
    "- Siguiendo el modelo propuesto por el enunciado, se procede a estimar una RNN unidireccional del tipo LSTM, toda vez que esta permite pronosticar el sentimiento de un comentario con base en secuencias de texto más largas que aquellas capturadas por una Red Neuronal Recurrente Simple (SimpleRNN en Keras). Para la arquitectura de esta red, añadimos dos unidades LSTM unidireccionales de entrada.\n",
    "\n",
    "- Debido a que a la activación sigmoide es particularmente útil para resolver problemas de clasificación binarios, consideramos conveniente dejarla para nuestro modelo inicial. "
   ]
  },
  {
   "cell_type": "code",
   "execution_count": null,
   "metadata": {
    "colab": {
     "base_uri": "https://localhost:8080/",
     "height": 323
    },
    "executionInfo": {
     "elapsed": 379522,
     "status": "ok",
     "timestamp": 1603056941836,
     "user": {
      "displayName": "Fernanda Romero",
      "photoUrl": "https://lh3.googleusercontent.com/a-/AOh14Ggn57zzeejaFpU7BqEy5vs9bWp0uHirxefVCGvkrQ=s64",
      "userId": "00184701712889740152"
     },
     "user_tz": 300
    },
    "id": "e-Ljth5fTzbf",
    "outputId": "fa3e86cd-ae42-4eb6-cdfd-53eee2168e32",
    "scrolled": true
   },
   "outputs": [
    {
     "name": "stdout",
     "output_type": "stream",
     "text": [
      "Model: \"functional_9\"\n",
      "_________________________________________________________________\n",
      "Layer (type)                 Output Shape              Param #   \n",
      "=================================================================\n",
      "input_2 (InputLayer)         [(None, None)]            0         \n",
      "_________________________________________________________________\n",
      "embedding_1 (Embedding)      (None, None, 128)         2560000   \n",
      "_________________________________________________________________\n",
      "lstm_2 (LSTM)                (None, None, 64)          49408     \n",
      "_________________________________________________________________\n",
      "lstm_3 (LSTM)                (None, 64)                33024     \n",
      "_________________________________________________________________\n",
      "dense_1 (Dense)              (None, 1)                 65        \n",
      "=================================================================\n",
      "Total params: 2,642,497\n",
      "Trainable params: 2,642,497\n",
      "Non-trainable params: 0\n",
      "_________________________________________________________________\n"
     ]
    }
   ],
   "source": [
    "# Input con secuencias de enteros con longitud variable\n",
    "inputs = keras.Input(shape=(None,), dtype=\"int32\")\n",
    "\n",
    "# Conseguimos la representación vectorial (embedding) de cada entero en un vector 128-dimensional\n",
    "x = layers.Embedding(max_features, 128)(inputs)\n",
    "\n",
    "# Añadimos 2 unidades LSTM\n",
    "x = layers.LSTM(64, return_sequences=True)(x)\n",
    "x = layers.LSTM(64)(x)\n",
    "\n",
    "# Añadimos un clasificador binario en la salida\n",
    "outputs = layers.Dense(1, activation=\"sigmoid\")(x)\n",
    "\n",
    "# Gaurdamos la arquitectura del modelo\n",
    "model1 = keras.Model(inputs, outputs)\n",
    "model1.summary()"
   ]
  },
  {
   "cell_type": "code",
   "execution_count": null,
   "metadata": {
    "colab": {
     "base_uri": "https://localhost:8080/",
     "height": 493
    },
    "executionInfo": {
     "elapsed": 602154,
     "status": "ok",
     "timestamp": 1603057164770,
     "user": {
      "displayName": "Fernanda Romero",
      "photoUrl": "https://lh3.googleusercontent.com/a-/AOh14Ggn57zzeejaFpU7BqEy5vs9bWp0uHirxefVCGvkrQ=s64",
      "userId": "00184701712889740152"
     },
     "user_tz": 300
    },
    "id": "AhSwC7eoTzbi",
    "outputId": "d569d850-c879-4230-ac8b-ac01c73f0225"
   },
   "outputs": [
    {
     "name": "stdout",
     "output_type": "stream",
     "text": [
      "Epoch 1/3\n",
      "391/391 [==============================] - 20s 51ms/step - loss: 0.4370 - accuracy: 0.7946 - val_loss: 0.3244 - val_accuracy: 0.8641\n",
      "Epoch 2/3\n",
      "391/391 [==============================] - 19s 48ms/step - loss: 0.2290 - accuracy: 0.9156 - val_loss: 0.3623 - val_accuracy: 0.8459\n",
      "Epoch 3/3\n",
      "391/391 [==============================] - 19s 49ms/step - loss: 0.1420 - accuracy: 0.9490 - val_loss: 0.4531 - val_accuracy: 0.8245\n",
      "Desempeño (exactitud): accu_v1=0.8244799971580505 , accu_v2=0.8169599771499634\n",
      "Epoch 1/3\n",
      "391/391 [==============================] - 21s 53ms/step - loss: 0.2334 - accuracy: 0.9121 - val_loss: 0.2315 - val_accuracy: 0.9145\n",
      "Epoch 2/3\n",
      "391/391 [==============================] - 20s 50ms/step - loss: 0.1057 - accuracy: 0.9658 - val_loss: 0.3537 - val_accuracy: 0.9045\n",
      "Epoch 3/3\n",
      "391/391 [==============================] - 20s 51ms/step - loss: 0.0658 - accuracy: 0.9798 - val_loss: 0.3532 - val_accuracy: 0.8937\n",
      "Desempeño (exactitud): accu_v1=0.8936799764633179 , accu_v2=0.8371599912643433\n",
      "Epoch 1/3\n",
      "391/391 [==============================] - 21s 54ms/step - loss: 0.1822 - accuracy: 0.9380 - val_loss: 0.1814 - val_accuracy: 0.9354\n",
      "Epoch 2/3\n",
      "391/391 [==============================] - 20s 50ms/step - loss: 0.1012 - accuracy: 0.9690 - val_loss: 0.1850 - val_accuracy: 0.9353\n",
      "Epoch 3/3\n",
      "391/391 [==============================] - 20s 51ms/step - loss: 0.0478 - accuracy: 0.9856 - val_loss: 0.2248 - val_accuracy: 0.9350\n",
      "Desempeño (exactitud): accu_v1=0.9349600076675415 , accu_v2=0.8442000150680542\n",
      "+--------+--------+--------+\n",
      "| Exac_E | Exac_V | Exac_P |\n",
      "+--------+--------+--------+\n",
      "| 0.9591 | 0.8245 | 0.817  |\n",
      "| 0.9854 | 0.8937 | 0.8372 |\n",
      "| 0.9967 | 0.935  | 0.8442 |\n",
      "+--------+--------+--------+\n"
     ]
    }
   ],
   "source": [
    "# Inicializamos la tabla donde guardamos los resultados\n",
    "x = PrettyTable([\"Exac_E\", \"Exac_V\", \"Exac_P\"])\n",
    "\n",
    "# Definimos el número máximo de iteraciones (épocas de la red)\n",
    "epocas=3\n",
    "\n",
    "# Definimos los parametros del Adam\n",
    "adam = keras.optimizers.Adam(lr=0.001, beta_1=0.9, beta_2=0.999)\n",
    "\n",
    "# Inicializamos el error \n",
    "err_p = 999\n",
    "\n",
    "for i in range(0,3,1):\n",
    "    r = i^3\n",
    "    CE_x, CV_x, CE_y, CV_y = train_test_split(x_train, y_train, test_size = 0.5, random_state = r)\n",
    "          \n",
    "    # Definimos el método de optimización con respecto a su funcion de pérdida (además guardamos la exactitud para cada iteracion)\n",
    "    model = keras.Model(inputs, outputs)\n",
    "    model.compile(loss='binary_crossentropy', optimizer=adam, metrics=['accuracy'])\n",
    "    \n",
    "    # Ajustamos el modelo\n",
    "    history=model.fit(x=CE_x, y=CE_y, epochs=epocas, validation_data=(CV_x, CV_y), verbose=1, shuffle=False)\n",
    "      \n",
    "    # Calculamos las metricas\n",
    "    train_metrics = model.evaluate(x=CE_x, y=CE_y, verbose=0)\n",
    "    valid_metrics = model.evaluate(x=CV_x, y=CV_y, verbose=0)\n",
    "    test_metrics = model.evaluate(x=x_val, y=y_val, verbose=0)\n",
    "    \n",
    "    # Guardamos las métricas de desempeño\n",
    "    accu_e = train_metrics[1]\n",
    "    loss_e = train_metrics[0]\n",
    "    accu_v = valid_metrics[1]\n",
    "    loss_v = valid_metrics[0]\n",
    "    accu_p = test_metrics[1]\n",
    "    loss_p = test_metrics[0]\n",
    "    \n",
    "    if (loss_p < err_p):\n",
    "        pathr =('LSTM64_part='+str(r)+'.h5')\n",
    "        model.save(pathr) \n",
    "        err_p = loss_p\n",
    "    \n",
    "    # Imprimimos el desempeño para cada repetición\n",
    "    print('Desempeño (exactitud): accu_v1='+str(accu_v) +' , accu_v2='+str(accu_p))\n",
    "    \n",
    "    x.add_row([np.round(accu_e,4), np.round(accu_v,4), np.round(accu_p,4)])\n",
    "\n",
    "print(x)\n"
   ]
  },
  {
   "cell_type": "markdown",
   "metadata": {
    "id": "XV6FCASdVZ02"
   },
   "source": [
    "- Al analizar los resultados de iterar sobre las tres épocas, se observa que el modelo pierde precisión en los datos de validación, siendo esta de 0.8154399991035461. En este sentido, a pesar the que la red LSTM permite traer información de pasos previos a pasos posteriores con mayor facilidad que la RNN, este modelo no garantiza la convergencia en la precisión de los datos de entrenamiento y validación."
   ]
  },
  {
   "cell_type": "code",
   "execution_count": null,
   "metadata": {
    "colab": {
     "base_uri": "https://localhost:8080/",
     "height": 573
    },
    "executionInfo": {
     "elapsed": 600626,
     "status": "ok",
     "timestamp": 1603057165195,
     "user": {
      "displayName": "Fernanda Romero",
      "photoUrl": "https://lh3.googleusercontent.com/a-/AOh14Ggn57zzeejaFpU7BqEy5vs9bWp0uHirxefVCGvkrQ=s64",
      "userId": "00184701712889740152"
     },
     "user_tz": 300
    },
    "id": "sz52yNR-Tzbk",
    "outputId": "2b6c7849-e0f4-4e9a-b1c7-9e4ef397c8c0"
   },
   "outputs": [
    {
     "data": {
      "image/png": "[encoded data removed]",
      "text/plain": [
       "<Figure size 432x288 with 1 Axes>"
      ]
     },
     "metadata": {
      "needs_background": "light",
      "tags": []
     },
     "output_type": "display_data"
    },
    {
     "data": {
      "image/png": "[encoded data removed]",
      "text/plain": [
       "<Figure size 432x288 with 1 Axes>"
      ]
     },
     "metadata": {
      "needs_background": "light",
      "tags": []
     },
     "output_type": "display_data"
    }
   ],
   "source": [
    "plt.figure(1)\n",
    "plt.plot(history.history['accuracy'])  \n",
    "plt.plot(history.history['val_accuracy'])  \n",
    "plt.title('Exactitud')  \n",
    "plt.ylabel('Acc')  \n",
    "plt.xlabel('Epoca')  \n",
    "plt.legend(['Entreno', 'Validacion'], loc='lower right')\n",
    "plt.show()\n",
    "\n",
    "plt.figure(1) \n",
    "plt.plot(history.history['loss'])  \n",
    "plt.plot(history.history['val_loss'])  \n",
    "plt.title('Pérdida')  \n",
    "plt.ylabel('Pérdida')  \n",
    "plt.xlabel('Epoca')  \n",
    "plt.legend(['Entreno', 'Validación'], loc='upper right')  \n",
    "plt.show()"
   ]
  },
  {
   "cell_type": "code",
   "execution_count": null,
   "metadata": {
    "colab": {
     "base_uri": "https://localhost:8080/",
     "height": 323
    },
    "executionInfo": {
     "elapsed": 586822,
     "status": "ok",
     "timestamp": 1603057165596,
     "user": {
      "displayName": "Fernanda Romero",
      "photoUrl": "https://lh3.googleusercontent.com/a-/AOh14Ggn57zzeejaFpU7BqEy5vs9bWp0uHirxefVCGvkrQ=s64",
      "userId": "00184701712889740152"
     },
     "user_tz": 300
    },
    "id": "yVPQ0uMIh8f4",
    "outputId": "4ebf92a1-afef-4b56-ebc6-c81a5420b400"
   },
   "outputs": [
    {
     "name": "stdout",
     "output_type": "stream",
     "text": [
      "Model: \"functional_11\"\n",
      "_________________________________________________________________\n",
      "Layer (type)                 Output Shape              Param #   \n",
      "=================================================================\n",
      "input_2 (InputLayer)         [(None, None)]            0         \n",
      "_________________________________________________________________\n",
      "embedding_1 (Embedding)      (None, None, 128)         2560000   \n",
      "_________________________________________________________________\n",
      "lstm_2 (LSTM)                (None, None, 64)          49408     \n",
      "_________________________________________________________________\n",
      "lstm_3 (LSTM)                (None, 64)                33024     \n",
      "_________________________________________________________________\n",
      "dense_1 (Dense)              (None, 1)                 65        \n",
      "=================================================================\n",
      "Total params: 2,642,497\n",
      "Trainable params: 2,642,497\n",
      "Non-trainable params: 0\n",
      "_________________________________________________________________\n"
     ]
    }
   ],
   "source": [
    "# LSTM 64\n",
    "model_lstm64 = load_model('LSTM64_part=3.h5')\n",
    "\n",
    "model_lstm64.summary()"
   ]
  },
  {
   "cell_type": "code",
   "execution_count": null,
   "metadata": {
    "colab": {
     "base_uri": "https://localhost:8080/",
     "height": 68
    },
    "executionInfo": {
     "elapsed": 599428,
     "status": "ok",
     "timestamp": 1603057178467,
     "user": {
      "displayName": "Fernanda Romero",
      "photoUrl": "https://lh3.googleusercontent.com/a-/AOh14Ggn57zzeejaFpU7BqEy5vs9bWp0uHirxefVCGvkrQ=s64",
      "userId": "00184701712889740152"
     },
     "user_tz": 300
    },
    "id": "bmrhDH4HhYXe",
    "outputId": "8447668c-5264-462e-e72f-4aaabdea14a4"
   },
   "outputs": [
    {
     "name": "stdout",
     "output_type": "stream",
     "text": [
      "[[10367  2133]\n",
      " [  572 11928]]\n",
      "Exactitud:  0.8917999863624573\n"
     ]
    }
   ],
   "source": [
    "Y_predt = model_lstm64.predict(x_train)\n",
    "Y_predst = (Y_predt > 0.5)\n",
    "\n",
    "print(confusion_matrix(y_train, Y_predst))\n",
    "print(\"Exactitud: \", model_lstm64.evaluate(x=x_train, y=y_train, verbose=0)[1])"
   ]
  },
  {
   "cell_type": "code",
   "execution_count": null,
   "metadata": {
    "colab": {
     "base_uri": "https://localhost:8080/",
     "height": 68
    },
    "executionInfo": {
     "elapsed": 610751,
     "status": "ok",
     "timestamp": 1603057190048,
     "user": {
      "displayName": "Fernanda Romero",
      "photoUrl": "https://lh3.googleusercontent.com/a-/AOh14Ggn57zzeejaFpU7BqEy5vs9bWp0uHirxefVCGvkrQ=s64",
      "userId": "00184701712889740152"
     },
     "user_tz": 300
    },
    "id": "--PInk2PiVGD",
    "outputId": "8018167a-3565-4a7a-a0df-0515c2f53edc"
   },
   "outputs": [
    {
     "name": "stdout",
     "output_type": "stream",
     "text": [
      "[[ 9101  3399]\n",
      " [ 1177 11323]]\n",
      "Exactitud:  0.8169599771499634\n"
     ]
    }
   ],
   "source": [
    "Y_predv = model_lstm64.predict(x_val)\n",
    "Y_predsv = (Y_predv > 0.5)\n",
    "\n",
    "print(confusion_matrix(y_val, Y_predsv))\n",
    "print(\"Exactitud: \", model_lstm64.evaluate(x=x_val, y=y_val, verbose=0)[1])"
   ]
  },
  {
   "cell_type": "markdown",
   "metadata": {
    "id": "FSYccdDuNt94"
   },
   "source": [
    "- Al analizar los resultados de iterar sobre las tres épocas, se observa que el modelo pierde precisión en los datos de validación, siendo esta de 0.8169599771499634. En este sentido, a pesar the que la red LSTM permite traer información de pasos previos a pasos posteriores con mayor facilidad que la RNN, este modelo no garantiza la convergencia en la precisión de los datos de entrenamiento y validación."
   ]
  },
  {
   "cell_type": "markdown",
   "metadata": {
    "id": "tNZmwvEPTzbq"
   },
   "source": [
    "#### Red recurrente LSTM"
   ]
  },
  {
   "cell_type": "markdown",
   "metadata": {
    "id": "hjFHezqIWofV"
   },
   "source": [
    "- Con el propósito de estimar el comportamiento de la red LSTM con otros parámetros, se estima una red con LSTM similar a la anterior pero con una activación de tangente hiperbólica en la capa de salida"
   ]
  },
  {
   "cell_type": "code",
   "execution_count": null,
   "metadata": {
    "colab": {
     "base_uri": "https://localhost:8080/",
     "height": 323
    },
    "executionInfo": {
     "elapsed": 6813,
     "status": "ok",
     "timestamp": 1603057190596,
     "user": {
      "displayName": "Fernanda Romero",
      "photoUrl": "https://lh3.googleusercontent.com/a-/AOh14Ggn57zzeejaFpU7BqEy5vs9bWp0uHirxefVCGvkrQ=s64",
      "userId": "00184701712889740152"
     },
     "user_tz": 300
    },
    "id": "A5aFHZiPTzbq",
    "outputId": "c46c5d09-2967-4553-97cc-a7d9faef2b7f",
    "scrolled": true
   },
   "outputs": [
    {
     "name": "stdout",
     "output_type": "stream",
     "text": [
      "Model: \"functional_17\"\n",
      "_________________________________________________________________\n",
      "Layer (type)                 Output Shape              Param #   \n",
      "=================================================================\n",
      "input_3 (InputLayer)         [(None, None)]            0         \n",
      "_________________________________________________________________\n",
      "embedding_2 (Embedding)      (None, None, 128)         2560000   \n",
      "_________________________________________________________________\n",
      "lstm_4 (LSTM)                (None, None, 64)          49408     \n",
      "_________________________________________________________________\n",
      "lstm_5 (LSTM)                (None, 64)                33024     \n",
      "_________________________________________________________________\n",
      "dense_2 (Dense)              (None, 1)                 65        \n",
      "=================================================================\n",
      "Total params: 2,642,497\n",
      "Trainable params: 2,642,497\n",
      "Non-trainable params: 0\n",
      "_________________________________________________________________\n"
     ]
    }
   ],
   "source": [
    "# Input con secuencias de enteros con longitud variable\n",
    "inputs = keras.Input(shape=(None,), dtype=\"int32\")\n",
    "\n",
    "# Conseguimos la representación vectorial (embedding) de cada entero en un vector 128-dimensional\n",
    "x = layers.Embedding(max_features, 128)(inputs)\n",
    "\n",
    "# Añadimos 2 unidades \n",
    "x = layers.LSTM(64, return_sequences=True)(x)\n",
    "x = layers.LSTM(64)(x)\n",
    "\n",
    "# Añadimos un clasificador binario en la salida\n",
    "outputs = layers.Dense(1, activation=\"tanh\")(x)\n",
    "\n",
    "# Gaurdamos la arquitectura del modelo\n",
    "model1 = keras.Model(inputs, outputs)\n",
    "model1.summary()"
   ]
  },
  {
   "cell_type": "markdown",
   "metadata": {
    "id": "mcbQpgqwW5Ke"
   },
   "source": [
    "- Para el algoritmo de Optimización Adam definimos una tasa de aprendizaje menor que la propuesta por el enunciado. De otra parte, al analizar las diferentes estimaciones de las funciones de pérdida, se estimó conveniente dejar la estimación de la función de pérdida por medio de binary_crossentropy, ya que garantiza buenos resultados en los problemas de clasificación binarios."
   ]
  },
  {
   "cell_type": "code",
   "execution_count": null,
   "metadata": {
    "colab": {
     "base_uri": "https://localhost:8080/",
     "height": 493
    },
    "executionInfo": {
     "elapsed": 223819,
     "status": "ok",
     "timestamp": 1603057409385,
     "user": {
      "displayName": "Fernanda Romero",
      "photoUrl": "https://lh3.googleusercontent.com/a-/AOh14Ggn57zzeejaFpU7BqEy5vs9bWp0uHirxefVCGvkrQ=s64",
      "userId": "00184701712889740152"
     },
     "user_tz": 300
    },
    "id": "RtzBw4RkgxHl",
    "outputId": "5b525c2e-e24f-4ee8-d19d-227c727fcf2e"
   },
   "outputs": [
    {
     "name": "stdout",
     "output_type": "stream",
     "text": [
      "Epoch 1/3\n",
      "391/391 [==============================] - 21s 53ms/step - loss: 0.5471 - accuracy: 0.7464 - val_loss: 0.3983 - val_accuracy: 0.8543\n",
      "Epoch 2/3\n",
      "391/391 [==============================] - 19s 49ms/step - loss: 0.2368 - accuracy: 0.9160 - val_loss: 0.3907 - val_accuracy: 0.8619\n",
      "Epoch 3/3\n",
      "391/391 [==============================] - 19s 50ms/step - loss: 0.1446 - accuracy: 0.9622 - val_loss: 0.5402 - val_accuracy: 0.8599\n",
      "Desempeño (exactitud): accu_v1=0.8599200248718262 , accu_v2=0.8369200229644775\n",
      "Epoch 1/3\n",
      "391/391 [==============================] - 20s 51ms/step - loss: 0.2378 - accuracy: 0.9143 - val_loss: 0.2322 - val_accuracy: 0.9190\n",
      "Epoch 2/3\n",
      "391/391 [==============================] - 19s 48ms/step - loss: 0.1674 - accuracy: 0.9521 - val_loss: 0.3494 - val_accuracy: 0.8984\n",
      "Epoch 3/3\n",
      "391/391 [==============================] - 19s 48ms/step - loss: 0.1828 - accuracy: 0.9611 - val_loss: 0.7752 - val_accuracy: 0.8844\n",
      "Desempeño (exactitud): accu_v1=0.8844000101089478 , accu_v2=0.8238000273704529\n",
      "Epoch 1/3\n",
      "391/391 [==============================] - 20s 52ms/step - loss: 0.2896 - accuracy: 0.9186 - val_loss: 0.2741 - val_accuracy: 0.9291\n",
      "Epoch 2/3\n",
      "391/391 [==============================] - 19s 49ms/step - loss: 0.3861 - accuracy: 0.9046 - val_loss: 0.9352 - val_accuracy: 0.8402\n",
      "Epoch 3/3\n",
      "391/391 [==============================] - 19s 49ms/step - loss: 0.6724 - accuracy: 0.7900 - val_loss: 0.4080 - val_accuracy: 0.8610\n",
      "Desempeño (exactitud): accu_v1=0.8609600067138672 , accu_v2=0.8105599880218506\n",
      "+--------+--------+--------+\n",
      "| Exac_E | Exac_V | Exac_P |\n",
      "+--------+--------+--------+\n",
      "| 0.9811 | 0.8599 | 0.8369 |\n",
      "| 0.9714 | 0.8844 | 0.8238 |\n",
      "| 0.9338 | 0.861  | 0.8106 |\n",
      "+--------+--------+--------+\n"
     ]
    }
   ],
   "source": [
    "# Inicializamos la tabla donde guardamos los resultados\n",
    "x = PrettyTable([\"Exac_E\", \"Exac_V\", \"Exac_P\"])\n",
    "\n",
    "# Definimos el número máximo de iteraciones (épocas de la red)\n",
    "epocas=3\n",
    "\n",
    "# Definimos los parametros del Adam\n",
    "adam = keras.optimizers.Adam(lr=0.009, beta_1=0.9, beta_2=0.999)\n",
    "\n",
    "# Inicializamos el error \n",
    "err_p = 999\n",
    "\n",
    "for i in range(0,3,1):\n",
    "    r = i^3\n",
    "    CE_x, CV_x, CE_y, CV_y = train_test_split(x_train, y_train, test_size = 0.5, random_state = r)\n",
    "          \n",
    "    # Definimos el método de optimización con respecto a su funcion de pérdida (además guardamos la exactitud para cada iteracion)\n",
    "    model = keras.Model(inputs, outputs)\n",
    "    model.compile(loss='binary_crossentropy', optimizer=adam, metrics=['accuracy'])\n",
    "    \n",
    "    # Ajustamos el modelo\n",
    "    history=model.fit(x=CE_x, y=CE_y, epochs=epocas, validation_data=(CV_x, CV_y), verbose=1, shuffle=False)\n",
    "      \n",
    "    # Calculamos las metricas\n",
    "    train_metrics = model.evaluate(x=CE_x, y=CE_y, verbose=0)\n",
    "    valid_metrics = model.evaluate(x=CV_x, y=CV_y, verbose=0)\n",
    "    test_metrics = model.evaluate(x=x_val, y=y_val, verbose=0)\n",
    "    \n",
    "    # Guardamos las métricas de desempeño\n",
    "    accu_e = train_metrics[1]\n",
    "    loss_e = train_metrics[0]\n",
    "    accu_v = valid_metrics[1]\n",
    "    loss_v = valid_metrics[0]\n",
    "    accu_p = test_metrics[1]\n",
    "    loss_p = test_metrics[0]\n",
    "    \n",
    "    if (loss_p < err_p):\n",
    "        pathr =('LSTM_2_part='+str(r)+'.h5')\n",
    "        model.save(pathr) \n",
    "        err_p = loss_p\n",
    "    \n",
    "    # Imprimimos el desempeño para cada repetición\n",
    "    print('Desempeño (exactitud): accu_v1='+str(accu_v) +' , accu_v2='+str(accu_p))\n",
    "    \n",
    "    x.add_row([np.round(accu_e,4), np.round(accu_v,4), np.round(accu_p,4)])\n",
    "\n",
    "print(x)\n"
   ]
  },
  {
   "cell_type": "code",
   "execution_count": null,
   "metadata": {
    "colab": {
     "base_uri": "https://localhost:8080/",
     "height": 573
    },
    "executionInfo": {
     "elapsed": 223476,
     "status": "ok",
     "timestamp": 1603057409734,
     "user": {
      "displayName": "Fernanda Romero",
      "photoUrl": "https://lh3.googleusercontent.com/a-/AOh14Ggn57zzeejaFpU7BqEy5vs9bWp0uHirxefVCGvkrQ=s64",
      "userId": "00184701712889740152"
     },
     "user_tz": 300
    },
    "id": "1iCkChkCg2hH",
    "outputId": "7e699874-7c90-4e32-fffb-1c02627318d2"
   },
   "outputs": [
    {
     "data": {
      "image/png": "[encoded data removed]",
      "text/plain": [
       "<Figure size 432x288 with 1 Axes>"
      ]
     },
     "metadata": {
      "needs_background": "light",
      "tags": []
     },
     "output_type": "display_data"
    },
    {
     "data": {
      "image/png": "[encoded data removed]",
      "text/plain": [
       "<Figure size 432x288 with 1 Axes>"
      ]
     },
     "metadata": {
      "needs_background": "light",
      "tags": []
     },
     "output_type": "display_data"
    }
   ],
   "source": [
    "plt.figure(1)\n",
    "plt.plot(history.history['accuracy'])  \n",
    "plt.plot(history.history['val_accuracy'])  \n",
    "plt.title('Exactitud')  \n",
    "plt.ylabel('Acc')  \n",
    "plt.xlabel('Epoca')  \n",
    "plt.legend(['Entreno', 'Validacion'], loc='lower right')\n",
    "plt.show()\n",
    "\n",
    "plt.figure(1) \n",
    "plt.plot(history.history['loss'])  \n",
    "plt.plot(history.history['val_loss'])  \n",
    "plt.title('Pérdida')  \n",
    "plt.ylabel('Pérdida')  \n",
    "plt.xlabel('Epoca')  \n",
    "plt.legend(['Entreno', 'Validación'], loc='upper right')  \n",
    "plt.show()"
   ]
  },
  {
   "cell_type": "code",
   "execution_count": null,
   "metadata": {
    "colab": {
     "base_uri": "https://localhost:8080/",
     "height": 323
    },
    "executionInfo": {
     "elapsed": 223335,
     "status": "ok",
     "timestamp": 1603057410210,
     "user": {
      "displayName": "Fernanda Romero",
      "photoUrl": "https://lh3.googleusercontent.com/a-/AOh14Ggn57zzeejaFpU7BqEy5vs9bWp0uHirxefVCGvkrQ=s64",
      "userId": "00184701712889740152"
     },
     "user_tz": 300
    },
    "id": "V1J3K1XJjCSw",
    "outputId": "607e45a6-f417-400c-976c-a8c652d14fe5"
   },
   "outputs": [
    {
     "name": "stdout",
     "output_type": "stream",
     "text": [
      "Model: \"functional_19\"\n",
      "_________________________________________________________________\n",
      "Layer (type)                 Output Shape              Param #   \n",
      "=================================================================\n",
      "input_3 (InputLayer)         [(None, None)]            0         \n",
      "_________________________________________________________________\n",
      "embedding_2 (Embedding)      (None, None, 128)         2560000   \n",
      "_________________________________________________________________\n",
      "lstm_4 (LSTM)                (None, None, 64)          49408     \n",
      "_________________________________________________________________\n",
      "lstm_5 (LSTM)                (None, 64)                33024     \n",
      "_________________________________________________________________\n",
      "dense_2 (Dense)              (None, 1)                 65        \n",
      "=================================================================\n",
      "Total params: 2,642,497\n",
      "Trainable params: 2,642,497\n",
      "Non-trainable params: 0\n",
      "_________________________________________________________________\n"
     ]
    }
   ],
   "source": [
    "# LSTM RELU\n",
    "model_lstm2 = load_model('LSTM_2_part=3.h5')\n",
    "\n",
    "model_lstm2.summary()"
   ]
  },
  {
   "cell_type": "code",
   "execution_count": null,
   "metadata": {
    "colab": {
     "base_uri": "https://localhost:8080/",
     "height": 68
    },
    "executionInfo": {
     "elapsed": 235038,
     "status": "ok",
     "timestamp": 1603057422638,
     "user": {
      "displayName": "Fernanda Romero",
      "photoUrl": "https://lh3.googleusercontent.com/a-/AOh14Ggn57zzeejaFpU7BqEy5vs9bWp0uHirxefVCGvkrQ=s64",
      "userId": "00184701712889740152"
     },
     "user_tz": 300
    },
    "id": "j76AlzbGhaO_",
    "outputId": "00c3c78e-6b2a-4795-d2bd-da15a73725ad"
   },
   "outputs": [
    {
     "name": "stdout",
     "output_type": "stream",
     "text": [
      "[[11656   844]\n",
      " [ 1143 11357]]\n",
      "Exactitud:  0.920520007610321\n"
     ]
    }
   ],
   "source": [
    "Y_predt = model_lstm2.predict(x_train)\n",
    "Y_predst = (Y_predt > 0.5)\n",
    "\n",
    "print(confusion_matrix(y_train, Y_predst))\n",
    "print(\"Exactitud: \", model_lstm2.evaluate(x=x_train, y=y_train, verbose=0)[1])"
   ]
  },
  {
   "cell_type": "code",
   "execution_count": null,
   "metadata": {
    "colab": {
     "base_uri": "https://localhost:8080/",
     "height": 68
    },
    "executionInfo": {
     "elapsed": 246218,
     "status": "ok",
     "timestamp": 1603057434474,
     "user": {
      "displayName": "Fernanda Romero",
      "photoUrl": "https://lh3.googleusercontent.com/a-/AOh14Ggn57zzeejaFpU7BqEy5vs9bWp0uHirxefVCGvkrQ=s64",
      "userId": "00184701712889740152"
     },
     "user_tz": 300
    },
    "id": "k2BfBB-Fjijg",
    "outputId": "191fc294-2052-4251-cf7c-cd2d01d94880"
   },
   "outputs": [
    {
     "name": "stdout",
     "output_type": "stream",
     "text": [
      "[[10847  1653]\n",
      " [ 2424 10076]]\n",
      "Exactitud:  0.8369200229644775\n"
     ]
    }
   ],
   "source": [
    "Y_predv = model_lstm2.predict(x_val)\n",
    "Y_predsv = (Y_predv > 0.5)\n",
    "\n",
    "print(confusion_matrix(y_val, Y_predsv))\n",
    "print(\"Exactitud: \", model_lstm2.evaluate(x=x_val, y=y_val, verbose=0)[1])"
   ]
  },
  {
   "cell_type": "markdown",
   "metadata": {
    "id": "gJ6qJS2nN50_"
   },
   "source": [
    "- Al analizar los resultados de iterar sobre las tres épocas, se observa que el modelo pierde precisión en los datos de validación, siendo esta de 0.8369200229644775. En este sentido, a pesar the que la red LSTM permite traer información de pasos previos a pasos posteriores con mayor facilidad que la RNN, este modelo no garantiza la convergencia en la precisión de los datos de entrenamiento y validación."
   ]
  },
  {
   "cell_type": "markdown",
   "metadata": {
    "id": "yLJLkCM3Tzbz"
   },
   "source": [
    "## Ejercicio 1.2\n",
    "\n",
    "Desarrolle otro modelo de red neuronal (de libre elección) para mejorar los resultados obtenidos con el mejor modelo obtenido hasta ahora.\n",
    "\n",
    "Puede explorar una red recurrente simple, LSTM, GRU, o cualquier otro tipo de red (CNN, CNN-LSTM, ...)\n",
    "\n",
    "Compare los resultados sobre los datos de prueba y analice el desempeño de su modelo. Concluya y proponga estrategias para seguir mejorando los resultados."
   ]
  },
  {
   "cell_type": "markdown",
   "metadata": {
    "id": "rf_TWbnULA9Z"
   },
   "source": [
    "#### Red de gradiente recurrente GRU - Softmax"
   ]
  },
  {
   "cell_type": "markdown",
   "metadata": {
    "id": "2EsXdb6OTzbt"
   },
   "source": [
    "- Red de gradiente recurrente GRU con función de activación Softmax en la capa y función de activación sigmoide en la capa de salida, tasa de aprendizaje 0.001"
   ]
  },
  {
   "cell_type": "code",
   "execution_count": 40,
   "metadata": {
    "colab": {
     "base_uri": "https://localhost:8080/",
     "height": 340
    },
    "executionInfo": {
     "elapsed": 1198,
     "status": "ok",
     "timestamp": 1603061925623,
     "user": {
      "displayName": "Fernanda Romero",
      "photoUrl": "https://lh3.googleusercontent.com/a-/AOh14Ggn57zzeejaFpU7BqEy5vs9bWp0uHirxefVCGvkrQ=s64",
      "userId": "00184701712889740152"
     },
     "user_tz": 300
    },
    "id": "lNsu0yGaTzbt",
    "outputId": "57a45dff-3994-4f58-a20d-02c5d66eed42"
   },
   "outputs": [
    {
     "name": "stdout",
     "output_type": "stream",
     "text": [
      "WARNING:tensorflow:Layer gru_8 will not use cuDNN kernel since it doesn't meet the cuDNN kernel criteria. It will use generic GPU kernel as fallback when running on GPU\n",
      "Model: \"functional_47\"\n",
      "_________________________________________________________________\n",
      "Layer (type)                 Output Shape              Param #   \n",
      "=================================================================\n",
      "input_8 (InputLayer)         [(None, None)]            0         \n",
      "_________________________________________________________________\n",
      "embedding_7 (Embedding)      (None, None, 128)         2560000   \n",
      "_________________________________________________________________\n",
      "gru_8 (GRU)                  (None, None, 32)          15552     \n",
      "_________________________________________________________________\n",
      "gru_9 (GRU)                  (None, 32)                6336      \n",
      "_________________________________________________________________\n",
      "dense_7 (Dense)              (None, 1)                 33        \n",
      "=================================================================\n",
      "Total params: 2,581,921\n",
      "Trainable params: 2,581,921\n",
      "Non-trainable params: 0\n",
      "_________________________________________________________________\n"
     ]
    }
   ],
   "source": [
    "# Input con secuencias de enteros con longitud variable\n",
    "inputs = keras.Input(shape=(None,), dtype=\"int32\")\n",
    "\n",
    "# Conseguimos la representación vectorial (embedding) de cada entero en un vector 128-dimensional\n",
    "x = layers.Embedding(max_features, 128)(inputs)\n",
    "\n",
    "# Añadimos 4 unidades \n",
    "x = layers.GRU(32, activation=\"softmax\", return_sequences=True)(x)\n",
    "x = layers.GRU(32)(x)\n",
    "\n",
    "\n",
    "\n",
    "# Añadimos un clasificador binario en la salida\n",
    "outputs = layers.Dense(1, activation=\"sigmoid\")(x)\n",
    "\n",
    "# Gaurdamos la arquitectura del modelo\n",
    "model1 = keras.Model(inputs, outputs)\n",
    "model1.summary()"
   ]
  },
  {
   "cell_type": "code",
   "execution_count": 41,
   "metadata": {
    "colab": {
     "base_uri": "https://localhost:8080/",
     "height": 493
    },
    "executionInfo": {
     "elapsed": 1764262,
     "status": "ok",
     "timestamp": 1603063705207,
     "user": {
      "displayName": "Fernanda Romero",
      "photoUrl": "https://lh3.googleusercontent.com/a-/AOh14Ggn57zzeejaFpU7BqEy5vs9bWp0uHirxefVCGvkrQ=s64",
      "userId": "00184701712889740152"
     },
     "user_tz": 300
    },
    "id": "V7Rp8mT3Tzbw",
    "outputId": "3a141d16-97e3-48f8-f529-3b1f8b9b8bbd"
   },
   "outputs": [
    {
     "name": "stdout",
     "output_type": "stream",
     "text": [
      "Epoch 1/3\n",
      "391/391 [==============================] - 175s 448ms/step - loss: 0.4875 - accuracy: 0.7416 - val_loss: 0.3100 - val_accuracy: 0.8638\n",
      "Epoch 2/3\n",
      "391/391 [==============================] - 175s 447ms/step - loss: 0.1905 - accuracy: 0.9241 - val_loss: 0.4135 - val_accuracy: 0.8599\n",
      "Epoch 3/3\n",
      "391/391 [==============================] - 176s 450ms/step - loss: 0.0872 - accuracy: 0.9697 - val_loss: 0.4573 - val_accuracy: 0.8591\n",
      "Desempeño (exactitud): accu_v1=0.8591200113296509 , accu_v2=0.8415600061416626\n",
      "Epoch 1/3\n",
      "391/391 [==============================] - 174s 445ms/step - loss: 0.2127 - accuracy: 0.9189 - val_loss: 0.2067 - val_accuracy: 0.9234\n",
      "Epoch 2/3\n",
      "391/391 [==============================] - 175s 446ms/step - loss: 0.0934 - accuracy: 0.9654 - val_loss: 0.2858 - val_accuracy: 0.9040\n",
      "Epoch 3/3\n",
      "391/391 [==============================] - 175s 448ms/step - loss: 0.0593 - accuracy: 0.9795 - val_loss: 0.2958 - val_accuracy: 0.9077\n",
      "Desempeño (exactitud): accu_v1=0.9076799750328064 , accu_v2=0.837440013885498\n",
      "Epoch 1/3\n",
      "391/391 [==============================] - 178s 454ms/step - loss: 0.1593 - accuracy: 0.9432 - val_loss: 0.1530 - val_accuracy: 0.9463\n",
      "Epoch 2/3\n",
      "391/391 [==============================] - 180s 461ms/step - loss: 0.0688 - accuracy: 0.9783 - val_loss: 0.2004 - val_accuracy: 0.9318\n",
      "Epoch 3/3\n",
      "391/391 [==============================] - 179s 458ms/step - loss: 0.0502 - accuracy: 0.9838 - val_loss: 0.2223 - val_accuracy: 0.9282\n",
      "Desempeño (exactitud): accu_v1=0.9282400012016296 , accu_v2=0.8343999981880188\n",
      "+--------+--------+--------+\n",
      "| Exac_E | Exac_V | Exac_P |\n",
      "+--------+--------+--------+\n",
      "| 0.9834 | 0.8591 | 0.8416 |\n",
      "| 0.9878 | 0.9077 | 0.8374 |\n",
      "| 0.9934 | 0.9282 | 0.8344 |\n",
      "+--------+--------+--------+\n"
     ]
    }
   ],
   "source": [
    "# Inicializamos la tabla donde guardamos los resultados\n",
    "x = PrettyTable([\"Exac_E\", \"Exac_V\", \"Exac_P\"])\n",
    "\n",
    "# Definimos el número máximo de iteraciones (épocas de la red)\n",
    "epocas=3\n",
    "\n",
    "# Definimos los parametros del Adam\n",
    "adam = keras.optimizers.Adam(lr=0.01, beta_1=0.9, beta_2=0.999)\n",
    "\n",
    "# Inicializamos el error \n",
    "err_p = 999\n",
    "\n",
    "for i in range(0,3,1):\n",
    "    r = i^3\n",
    "    CE_x, CV_x, CE_y, CV_y = train_test_split(x_train, y_train, test_size = 0.5, random_state = r)\n",
    "          \n",
    "    # Definimos el método de optimización con respecto a su funcion de pérdida (además guardamos la exactitud para cada iteracion)\n",
    "    model = keras.Model(inputs, outputs)\n",
    "    model.compile(loss='binary_crossentropy', optimizer=adam, metrics=['accuracy'])\n",
    "    \n",
    "    # Ajustamos el modelo\n",
    "    history=model.fit(x=CE_x, y=CE_y, epochs=epocas, validation_data=(CV_x, CV_y), verbose=1, shuffle=False)\n",
    "      \n",
    "    # Calculamos las metricas\n",
    "    train_metrics = model.evaluate(x=CE_x, y=CE_y, verbose=0)\n",
    "    valid_metrics = model.evaluate(x=CV_x, y=CV_y, verbose=0)\n",
    "    test_metrics = model.evaluate(x=x_val, y=y_val, verbose=0)\n",
    "    \n",
    "    # Guardamos las métricas de desempeño\n",
    "    accu_e = train_metrics[1]\n",
    "    loss_e = train_metrics[0]\n",
    "    accu_v = valid_metrics[1]\n",
    "    loss_v = valid_metrics[0]\n",
    "    accu_p = test_metrics[1]\n",
    "    loss_p = test_metrics[0]\n",
    "    \n",
    "    if (loss_p < err_p):\n",
    "        pathr =('GRU32_part='+str(r)+'.h5')\n",
    "        model.save(pathr) \n",
    "        err_p = loss_p\n",
    "    \n",
    "    # Imprimimos el desempeño para cada repetición\n",
    "    print('Desempeño (exactitud): accu_v1='+str(accu_v) +' , accu_v2='+str(accu_p))\n",
    "    \n",
    "    x.add_row([np.round(accu_e,4), np.round(accu_v,4), np.round(accu_p,4)])\n",
    "\n",
    "print(x)\n"
   ]
  },
  {
   "cell_type": "code",
   "execution_count": 42,
   "metadata": {
    "colab": {
     "base_uri": "https://localhost:8080/",
     "height": 573
    },
    "executionInfo": {
     "elapsed": 1757863,
     "status": "ok",
     "timestamp": 1603063705486,
     "user": {
      "displayName": "Fernanda Romero",
      "photoUrl": "https://lh3.googleusercontent.com/a-/AOh14Ggn57zzeejaFpU7BqEy5vs9bWp0uHirxefVCGvkrQ=s64",
      "userId": "00184701712889740152"
     },
     "user_tz": 300
    },
    "id": "2QDpquNHhFjV",
    "outputId": "5a0dfb1a-bd5f-41a6-f5ab-da97f79d4cec"
   },
   "outputs": [
    {
     "data": {
      "image/png": "[encoded data removed]",
      "text/plain": [
       "<Figure size 432x288 with 1 Axes>"
      ]
     },
     "metadata": {
      "needs_background": "light",
      "tags": []
     },
     "output_type": "display_data"
    },
    {
     "data": {
      "image/png": "[encoded data removed]",
      "text/plain": [
       "<Figure size 432x288 with 1 Axes>"
      ]
     },
     "metadata": {
      "needs_background": "light",
      "tags": []
     },
     "output_type": "display_data"
    }
   ],
   "source": [
    "plt.figure(1)\n",
    "plt.plot(history.history['accuracy'])  \n",
    "plt.plot(history.history['val_accuracy'])  \n",
    "plt.title('Exactitud')  \n",
    "plt.ylabel('Acc')  \n",
    "plt.xlabel('Epoca')  \n",
    "plt.legend(['Entreno', 'Validacion'], loc='lower right')\n",
    "plt.show()\n",
    "\n",
    "plt.figure(1) \n",
    "plt.plot(history.history['loss'])  \n",
    "plt.plot(history.history['val_loss'])  \n",
    "plt.title('Pérdida')  \n",
    "plt.ylabel('Pérdida')  \n",
    "plt.xlabel('Epoca')  \n",
    "plt.legend(['Entreno', 'Validación'], loc='upper right')  \n",
    "plt.show()"
   ]
  },
  {
   "cell_type": "code",
   "execution_count": 43,
   "metadata": {
    "colab": {
     "base_uri": "https://localhost:8080/",
     "height": 340
    },
    "executionInfo": {
     "elapsed": 1753440,
     "status": "ok",
     "timestamp": 1603063705731,
     "user": {
      "displayName": "Fernanda Romero",
      "photoUrl": "https://lh3.googleusercontent.com/a-/AOh14Ggn57zzeejaFpU7BqEy5vs9bWp0uHirxefVCGvkrQ=s64",
      "userId": "00184701712889740152"
     },
     "user_tz": 300
    },
    "id": "v1XEdl5Ghbs-",
    "outputId": "256b27ee-5c46-400a-bf28-075e930c0753"
   },
   "outputs": [
    {
     "name": "stdout",
     "output_type": "stream",
     "text": [
      "WARNING:tensorflow:Layer gru_8 will not use cuDNN kernel since it doesn't meet the cuDNN kernel criteria. It will use generic GPU kernel as fallback when running on GPU\n",
      "Model: \"functional_49\"\n",
      "_________________________________________________________________\n",
      "Layer (type)                 Output Shape              Param #   \n",
      "=================================================================\n",
      "input_8 (InputLayer)         [(None, None)]            0         \n",
      "_________________________________________________________________\n",
      "embedding_7 (Embedding)      (None, None, 128)         2560000   \n",
      "_________________________________________________________________\n",
      "gru_8 (GRU)                  (None, None, 32)          15552     \n",
      "_________________________________________________________________\n",
      "gru_9 (GRU)                  (None, 32)                6336      \n",
      "_________________________________________________________________\n",
      "dense_7 (Dense)              (None, 1)                 33        \n",
      "=================================================================\n",
      "Total params: 2,581,921\n",
      "Trainable params: 2,581,921\n",
      "Non-trainable params: 0\n",
      "_________________________________________________________________\n"
     ]
    }
   ],
   "source": [
    "# GRU 32\n",
    "model_gru32 = load_model('GRU32_part=3.h5')\n",
    "\n",
    "model_gru32.summary()"
   ]
  },
  {
   "cell_type": "code",
   "execution_count": 44,
   "metadata": {
    "colab": {
     "base_uri": "https://localhost:8080/",
     "height": 68
    },
    "executionInfo": {
     "elapsed": 1808112,
     "status": "ok",
     "timestamp": 1603063761442,
     "user": {
      "displayName": "Fernanda Romero",
      "photoUrl": "https://lh3.googleusercontent.com/a-/AOh14Ggn57zzeejaFpU7BqEy5vs9bWp0uHirxefVCGvkrQ=s64",
      "userId": "00184701712889740152"
     },
     "user_tz": 300
    },
    "id": "MDw7vcPIj99j",
    "outputId": "1946aadb-8d69-4dfe-9bc7-cc9bcac57ff7"
   },
   "outputs": [
    {
     "name": "stdout",
     "output_type": "stream",
     "text": [
      "[[11536   964]\n",
      " [ 1004 11496]]\n",
      "Exactitud:  0.921280026435852\n"
     ]
    }
   ],
   "source": [
    "Y_predt = model_gru32.predict(x_train)\n",
    "Y_predst = (Y_predt > 0.5)\n",
    "\n",
    "print(confusion_matrix(y_train, Y_predst))\n",
    "print(\"Exactitud: \", model_gru32.evaluate(x=x_train, y=y_train, verbose=0)[1])"
   ]
  },
  {
   "cell_type": "code",
   "execution_count": 45,
   "metadata": {
    "colab": {
     "base_uri": "https://localhost:8080/",
     "height": 68
    },
    "executionInfo": {
     "elapsed": 1863363,
     "status": "ok",
     "timestamp": 1603063817104,
     "user": {
      "displayName": "Fernanda Romero",
      "photoUrl": "https://lh3.googleusercontent.com/a-/AOh14Ggn57zzeejaFpU7BqEy5vs9bWp0uHirxefVCGvkrQ=s64",
      "userId": "00184701712889740152"
     },
     "user_tz": 300
    },
    "id": "8iC-lsXrj-qO",
    "outputId": "b6371456-3584-4798-e948-22194b3894bd"
   },
   "outputs": [
    {
     "name": "stdout",
     "output_type": "stream",
     "text": [
      "[[10594  1906]\n",
      " [ 2055 10445]]\n",
      "Exactitud:  0.8415600061416626\n"
     ]
    }
   ],
   "source": [
    "Y_predv = model_gru32.predict(x_val)\n",
    "Y_predsv = (Y_predv > 0.5)\n",
    "\n",
    "print(confusion_matrix(y_val, Y_predsv))\n",
    "print(\"Exactitud: \", model_gru32.evaluate(x=x_val, y=y_val, verbose=0)[1])"
   ]
  },
  {
   "cell_type": "markdown",
   "metadata": {
    "id": "kWulWc-BOCaj"
   },
   "source": [
    "- Al analizar los resultados de iterar sobre las tres épocas, se observa que aunque el modelo mejora su exactitud (0.8415600061416626) esta no es suficiente para concluir que este es el mejor modelo.Por lo tanto, este modelo no garantiza la convergencia en la precisión de los datos de entrenamiento y validación."
   ]
  },
  {
   "cell_type": "markdown",
   "metadata": {
    "id": "kAcK9U6cLo48"
   },
   "source": [
    "#### Red de gradiente recurrente GRU32"
   ]
  },
  {
   "cell_type": "markdown",
   "metadata": {
    "id": "P1zA6lIh4nS1"
   },
   "source": [
    "- Red de gradiente recurrente GRU con Softmax y capa de salida sigmoide. Tasa de aprendizaje 0.05 y representación de cada entero en un vector de 32 dimensiones"
   ]
  },
  {
   "cell_type": "code",
   "execution_count": null,
   "metadata": {
    "colab": {
     "base_uri": "https://localhost:8080/",
     "height": 340
    },
    "executionInfo": {
     "elapsed": 1157,
     "status": "ok",
     "timestamp": 1603058866595,
     "user": {
      "displayName": "Juan Fernando Ortiz Serrano",
      "photoUrl": "",
      "userId": "13039163901038982006"
     },
     "user_tz": 300
    },
    "id": "0RI0PCPG4nS2",
    "outputId": "23c1622b-e536-47ae-8e7e-f0211c903fb2"
   },
   "outputs": [
    {
     "name": "stdout",
     "output_type": "stream",
     "text": [
      "WARNING:tensorflow:Layer gru_10 will not use cuDNN kernel since it doesn't meet the cuDNN kernel criteria. It will use generic GPU kernel as fallback when running on GPU\n",
      "Model: \"functional_41\"\n",
      "_________________________________________________________________\n",
      "Layer (type)                 Output Shape              Param #   \n",
      "=================================================================\n",
      "input_6 (InputLayer)         [(None, None)]            0         \n",
      "_________________________________________________________________\n",
      "embedding_5 (Embedding)      (None, None, 32)          640000    \n",
      "_________________________________________________________________\n",
      "gru_10 (GRU)                 (None, None, 16)          2400      \n",
      "_________________________________________________________________\n",
      "gru_11 (GRU)                 (None, 16)                1632      \n",
      "_________________________________________________________________\n",
      "dense_5 (Dense)              (None, 1)                 17        \n",
      "=================================================================\n",
      "Total params: 644,049\n",
      "Trainable params: 644,049\n",
      "Non-trainable params: 0\n",
      "_________________________________________________________________\n"
     ]
    }
   ],
   "source": [
    "# Input con secuencias de enteros con longitud variable\n",
    "inputs = keras.Input(shape=(None,), dtype=\"int32\")\n",
    "\n",
    "# Conseguimos la representación vectorial (embedding) de cada entero en un vector 128-dimensional\n",
    "x = layers.Embedding(max_features, 32)(inputs)\n",
    "\n",
    "# Añadimos 2 unidades \n",
    "x = layers.GRU(16, activation=\"softmax\", return_sequences=True)(x)\n",
    "x = layers.GRU(16)(x)\n",
    "\n",
    "\n",
    "\n",
    "# Añadimos un clasificador binario en la salida\n",
    "outputs = layers.Dense(1, activation=\"sigmoid\")(x)\n",
    "\n",
    "# Gaurdamos la arquitectura del modelo\n",
    "model1 = keras.Model(inputs, outputs)\n",
    "model1.summary()"
   ]
  },
  {
   "cell_type": "code",
   "execution_count": null,
   "metadata": {
    "colab": {
     "base_uri": "https://localhost:8080/",
     "height": 493
    },
    "executionInfo": {
     "elapsed": 1695228,
     "status": "ok",
     "timestamp": 1603060572982,
     "user": {
      "displayName": "Juan Fernando Ortiz Serrano",
      "photoUrl": "",
      "userId": "13039163901038982006"
     },
     "user_tz": 300
    },
    "id": "9q9oYekq4nS9",
    "outputId": "acabcd43-93b1-4ee0-b9c1-18214a1c0857"
   },
   "outputs": [
    {
     "name": "stdout",
     "output_type": "stream",
     "text": [
      "Epoch 1/3\n",
      "391/391 [==============================] - 169s 433ms/step - loss: 0.4728 - accuracy: 0.7637 - val_loss: 0.3490 - val_accuracy: 0.8495\n",
      "Epoch 2/3\n",
      "391/391 [==============================] - 165s 423ms/step - loss: 0.2621 - accuracy: 0.8924 - val_loss: 0.3789 - val_accuracy: 0.8395\n",
      "Epoch 3/3\n",
      "391/391 [==============================] - 168s 429ms/step - loss: 0.2186 - accuracy: 0.9138 - val_loss: 0.4845 - val_accuracy: 0.8136\n",
      "Desempeño (exactitud): accu_v1=0.8136000037193298 , accu_v2=0.7940000295639038\n",
      "Epoch 1/3\n",
      "391/391 [==============================] - 164s 420ms/step - loss: 0.2822 - accuracy: 0.8853 - val_loss: 0.2723 - val_accuracy: 0.8891\n",
      "Epoch 2/3\n",
      "391/391 [==============================] - 164s 419ms/step - loss: 0.2385 - accuracy: 0.9072 - val_loss: 0.2780 - val_accuracy: 0.8888\n",
      "Epoch 3/3\n",
      "391/391 [==============================] - 165s 422ms/step - loss: 0.2035 - accuracy: 0.9216 - val_loss: 0.3381 - val_accuracy: 0.8830\n",
      "Desempeño (exactitud): accu_v1=0.8830400109291077 , accu_v2=0.8349599838256836\n",
      "Epoch 1/3\n",
      "391/391 [==============================] - 168s 430ms/step - loss: 0.2564 - accuracy: 0.8966 - val_loss: 0.2764 - val_accuracy: 0.8904\n",
      "Epoch 2/3\n",
      "391/391 [==============================] - 172s 439ms/step - loss: 0.2324 - accuracy: 0.9058 - val_loss: 0.2676 - val_accuracy: 0.8901\n",
      "Epoch 3/3\n",
      "391/391 [==============================] - 173s 442ms/step - loss: 0.2093 - accuracy: 0.9162 - val_loss: 0.2784 - val_accuracy: 0.8853\n",
      "Desempeño (exactitud): accu_v1=0.8852800130844116 , accu_v2=0.8261600136756897\n",
      "+--------+--------+--------+\n",
      "| Exac_E | Exac_V | Exac_P |\n",
      "+--------+--------+--------+\n",
      "| 0.9196 | 0.8136 | 0.794  |\n",
      "| 0.9411 | 0.883  | 0.835  |\n",
      "| 0.9275 | 0.8853 | 0.8262 |\n",
      "+--------+--------+--------+\n"
     ]
    }
   ],
   "source": [
    "# Inicializamos la tabla donde guardamos los resultados\n",
    "x = PrettyTable([\"Exac_E\", \"Exac_V\", \"Exac_P\"])\n",
    "\n",
    "# Definimos el número máximo de iteraciones (épocas de la red)\n",
    "epocas=3\n",
    "\n",
    "# Definimos los parametros del Adam\n",
    "adam = keras.optimizers.Adam(lr=0.05, beta_1 = 0.8, beta_2 = 0.888)\n",
    "\n",
    "# Inicializamos el error \n",
    "err_p = 999\n",
    "\n",
    "for i in range(0,3,1):\n",
    "    r = i^3\n",
    "    CE_x, CV_x, CE_y, CV_y = train_test_split(x_train, y_train, test_size = 0.5, random_state = r)\n",
    "          \n",
    "    # Definimos el método de optimización con respecto a su funcion de pérdida (además guardamos la exactitud para cada iteracion)\n",
    "    model = keras.Model(inputs, outputs)\n",
    "    model.compile(loss='binary_crossentropy', optimizer=adam, metrics=['accuracy'])\n",
    "    \n",
    "    # Ajustamos el modelo\n",
    "    history=model.fit(x=CE_x, y=CE_y, epochs=epocas, validation_data=(CV_x, CV_y), verbose=1, shuffle=False)\n",
    "      \n",
    "    # Calculamos las metricas\n",
    "    train_metrics = model.evaluate(x=CE_x, y=CE_y, verbose=0)\n",
    "    valid_metrics = model.evaluate(x=CV_x, y=CV_y, verbose=0)\n",
    "    test_metrics = model.evaluate(x=x_val, y=y_val, verbose=0)\n",
    "    \n",
    "    # Guardamos las métricas de desempeño\n",
    "    accu_e = train_metrics[1]\n",
    "    loss_e = train_metrics[0]\n",
    "    accu_v = valid_metrics[1]\n",
    "    loss_v = valid_metrics[0]\n",
    "    accu_p = test_metrics[1]\n",
    "    loss_p = test_metrics[0]\n",
    "    \n",
    "    if (loss_p < err_p):\n",
    "        pathr =('GRU32_part='+str(r)+'.h5')\n",
    "        model.save(pathr) \n",
    "        err_p = loss_p\n",
    "    \n",
    "    # Imprimimos el desempeño para cada repetición\n",
    "    print('Desempeño (exactitud): accu_v1='+str(accu_v) +' , accu_v2='+str(accu_p))\n",
    "    \n",
    "    x.add_row([np.round(accu_e,4), np.round(accu_v,4), np.round(accu_p,4)])\n",
    "\n",
    "print(x)\n"
   ]
  },
  {
   "cell_type": "code",
   "execution_count": null,
   "metadata": {
    "colab": {
     "base_uri": "https://localhost:8080/",
     "height": 573
    },
    "executionInfo": {
     "elapsed": 1348,
     "status": "ok",
     "timestamp": 1603060582268,
     "user": {
      "displayName": "Juan Fernando Ortiz Serrano",
      "photoUrl": "",
      "userId": "13039163901038982006"
     },
     "user_tz": 300
    },
    "id": "5qrMp9jt4nTC",
    "outputId": "a659c2e2-1b90-48e4-f761-b5290acc7a3a"
   },
   "outputs": [
    {
     "data": {
      "image/png": "[encoded data removed]",
      "text/plain": [
       "<Figure size 432x288 with 1 Axes>"
      ]
     },
     "metadata": {
      "needs_background": "light",
      "tags": []
     },
     "output_type": "display_data"
    },
    {
     "data": {
      "image/png": "[encoded data removed]",
      "text/plain": [
       "<Figure size 432x288 with 1 Axes>"
      ]
     },
     "metadata": {
      "needs_background": "light",
      "tags": []
     },
     "output_type": "display_data"
    }
   ],
   "source": [
    "plt.figure(1)\n",
    "plt.plot(history.history['accuracy'])  \n",
    "plt.plot(history.history['val_accuracy'])  \n",
    "plt.title('Exactitud')  \n",
    "plt.ylabel('Acc')  \n",
    "plt.xlabel('Epoca')  \n",
    "plt.legend(['Entreno', 'Validacion'], loc='lower right')\n",
    "plt.show()\n",
    "\n",
    "plt.figure(1) \n",
    "plt.plot(history.history['loss'])  \n",
    "plt.plot(history.history['val_loss'])  \n",
    "plt.title('Pérdida')  \n",
    "plt.ylabel('Pérdida')  \n",
    "plt.xlabel('Epoca')  \n",
    "plt.legend(['Entreno', 'Validación'], loc='upper right')  \n",
    "plt.show()"
   ]
  },
  {
   "cell_type": "code",
   "execution_count": null,
   "metadata": {
    "colab": {
     "base_uri": "https://localhost:8080/",
     "height": 340
    },
    "executionInfo": {
     "elapsed": 726,
     "status": "ok",
     "timestamp": 1603060599477,
     "user": {
      "displayName": "Juan Fernando Ortiz Serrano",
      "photoUrl": "",
      "userId": "13039163901038982006"
     },
     "user_tz": 300
    },
    "id": "xCAcs5gR4nTJ",
    "outputId": "c49eefb3-00f3-443d-ab07-1f139590c2bc"
   },
   "outputs": [
    {
     "name": "stdout",
     "output_type": "stream",
     "text": [
      "WARNING:tensorflow:Layer gru_10 will not use cuDNN kernel since it doesn't meet the cuDNN kernel criteria. It will use generic GPU kernel as fallback when running on GPU\n",
      "Model: \"functional_43\"\n",
      "_________________________________________________________________\n",
      "Layer (type)                 Output Shape              Param #   \n",
      "=================================================================\n",
      "input_6 (InputLayer)         [(None, None)]            0         \n",
      "_________________________________________________________________\n",
      "embedding_5 (Embedding)      (None, None, 32)          640000    \n",
      "_________________________________________________________________\n",
      "gru_10 (GRU)                 (None, None, 16)          2400      \n",
      "_________________________________________________________________\n",
      "gru_11 (GRU)                 (None, 16)                1632      \n",
      "_________________________________________________________________\n",
      "dense_5 (Dense)              (None, 1)                 17        \n",
      "=================================================================\n",
      "Total params: 644,049\n",
      "Trainable params: 644,049\n",
      "Non-trainable params: 0\n",
      "_________________________________________________________________\n"
     ]
    }
   ],
   "source": [
    "# GRU 32\n",
    "model_gru32 = load_model('GRU32_part=3.h5')\n",
    "\n",
    "model_gru32.summary()"
   ]
  },
  {
   "cell_type": "code",
   "execution_count": null,
   "metadata": {
    "colab": {
     "base_uri": "https://localhost:8080/",
     "height": 68
    },
    "executionInfo": {
     "elapsed": 62915,
     "status": "ok",
     "timestamp": 1603060666226,
     "user": {
      "displayName": "Juan Fernando Ortiz Serrano",
      "photoUrl": "",
      "userId": "13039163901038982006"
     },
     "user_tz": 300
    },
    "id": "kyZm86Qy4nTQ",
    "outputId": "4191561b-8a03-4324-fcb1-553a5ba60fa0"
   },
   "outputs": [
    {
     "name": "stdout",
     "output_type": "stream",
     "text": [
      "[[11812   688]\n",
      " [ 2647  9853]]\n",
      "Exactitud:  0.866599977016449\n"
     ]
    }
   ],
   "source": [
    "Y_predt = model_gru32.predict(x_train)\n",
    "Y_predst = (Y_predt > 0.5)\n",
    "\n",
    "print(confusion_matrix(y_train, Y_predst))\n",
    "print(\"Exactitud: \", model_gru32.evaluate(x=x_train, y=y_train, verbose=0)[1])"
   ]
  },
  {
   "cell_type": "code",
   "execution_count": null,
   "metadata": {
    "colab": {
     "base_uri": "https://localhost:8080/",
     "height": 68
    },
    "executionInfo": {
     "elapsed": 122216,
     "status": "ok",
     "timestamp": 1603060726040,
     "user": {
      "displayName": "Juan Fernando Ortiz Serrano",
      "photoUrl": "",
      "userId": "13039163901038982006"
     },
     "user_tz": 300
    },
    "id": "0SCms8jk4nTX",
    "outputId": "94a38776-12a0-4fb8-d7b7-8339b6c9f83b"
   },
   "outputs": [
    {
     "name": "stdout",
     "output_type": "stream",
     "text": [
      "[[11404  1096]\n",
      " [ 4054  8446]]\n",
      "Exactitud:  0.7940000295639038\n"
     ]
    }
   ],
   "source": [
    "Y_predv = model_gru32.predict(x_val)\n",
    "Y_predsv = (Y_predv > 0.5)\n",
    "\n",
    "print(confusion_matrix(y_val, Y_predsv))\n",
    "print(\"Exactitud: \", model_gru32.evaluate(x=x_val, y=y_val, verbose=0)[1])"
   ]
  },
  {
   "cell_type": "markdown",
   "metadata": {
    "id": "xOjIKfMIMICG"
   },
   "source": [
    "* Al analizar los resultados de iterar sobre las tres épocas, se observa que el modelo pierde precisión en los datos de validación, siendo esta de 0.7940000295639038. En este sentido, este modelo no garantiza la convergencia en la precisión de los datos de entrenamiento y validación."
   ]
  },
  {
   "cell_type": "markdown",
   "metadata": {
    "id": "93qlHVueMuJq"
   },
   "source": [
    "#### Red de gradiente recurrente GRU - RELU"
   ]
  },
  {
   "cell_type": "markdown",
   "metadata": {
    "id": "6Ib3PK_NNLcM"
   },
   "source": [
    "- Red de gradiente recurrente GRU con ReLu y capa de salida sigmoide. Tasa de aprendizaje 0.001 y representación de cada entero en un vector de 110 dimensiones"
   ]
  },
  {
   "cell_type": "code",
   "execution_count": null,
   "metadata": {
    "colab": {
     "base_uri": "https://localhost:8080/",
     "height": 340
    },
    "executionInfo": {
     "elapsed": 610,
     "status": "ok",
     "timestamp": 1603058695585,
     "user": {
      "displayName": "Fernanda Romero",
      "photoUrl": "https://lh3.googleusercontent.com/a-/AOh14Ggn57zzeejaFpU7BqEy5vs9bWp0uHirxefVCGvkrQ=s64",
      "userId": "00184701712889740152"
     },
     "user_tz": 300
    },
    "id": "ApIFCqRVjn8W",
    "outputId": "a0dc3045-9204-4627-d3d7-90729c06e8e4"
   },
   "outputs": [
    {
     "name": "stdout",
     "output_type": "stream",
     "text": [
      "WARNING:tensorflow:Layer gru_6 will not use cuDNN kernel since it doesn't meet the cuDNN kernel criteria. It will use generic GPU kernel as fallback when running on GPU\n",
      "Model: \"functional_39\"\n",
      "_________________________________________________________________\n",
      "Layer (type)                 Output Shape              Param #   \n",
      "=================================================================\n",
      "input_7 (InputLayer)         [(None, None)]            0         \n",
      "_________________________________________________________________\n",
      "embedding_6 (Embedding)      (None, None, 110)         2200000   \n",
      "_________________________________________________________________\n",
      "gru_6 (GRU)                  (None, None, 55)          27555     \n",
      "_________________________________________________________________\n",
      "gru_7 (GRU)                  (None, 55)                18480     \n",
      "_________________________________________________________________\n",
      "dense_6 (Dense)              (None, 1)                 56        \n",
      "=================================================================\n",
      "Total params: 2,246,091\n",
      "Trainable params: 2,246,091\n",
      "Non-trainable params: 0\n",
      "_________________________________________________________________\n"
     ]
    }
   ],
   "source": [
    "# Input con secuencias de enteros con longitud variable\n",
    "inputs = keras.Input(shape=(None,), dtype=\"int32\")\n",
    "\n",
    "# Conseguimos la representación vectorial (embedding) de cada entero en un vector 110-dimensional\n",
    "x = layers.Embedding(max_features, 110)(inputs)\n",
    "\n",
    "# Añadimos 2 unidades \n",
    "x = layers.GRU(55, activation=\"relu\", return_sequences=True)(x)\n",
    "x = layers.GRU(55)(x)\n",
    "\n",
    "\n",
    "\n",
    "# Añadimos un clasificador binario en la salida\n",
    "outputs = layers.Dense(1, activation=\"sigmoid\")(x)\n",
    "\n",
    "# Gaurdamos la arquitectura del modelo\n",
    "model1 = keras.Model(inputs, outputs)\n",
    "model1.summary()"
   ]
  },
  {
   "cell_type": "code",
   "execution_count": null,
   "metadata": {
    "colab": {
     "base_uri": "https://localhost:8080/",
     "height": 493
    },
    "executionInfo": {
     "elapsed": 1698817,
     "status": "ok",
     "timestamp": 1603060396013,
     "user": {
      "displayName": "Fernanda Romero",
      "photoUrl": "https://lh3.googleusercontent.com/a-/AOh14Ggn57zzeejaFpU7BqEy5vs9bWp0uHirxefVCGvkrQ=s64",
      "userId": "00184701712889740152"
     },
     "user_tz": 300
    },
    "id": "nK84PQ68jn8v",
    "outputId": "e94f45e9-3a6e-4d6a-dd0c-31ba197e9098"
   },
   "outputs": [
    {
     "name": "stdout",
     "output_type": "stream",
     "text": [
      "Epoch 1/3\n",
      "391/391 [==============================] - 171s 438ms/step - loss: 0.4960 - accuracy: 0.7434 - val_loss: 0.3458 - val_accuracy: 0.8582\n",
      "Epoch 2/3\n",
      "391/391 [==============================] - 170s 434ms/step - loss: 0.2361 - accuracy: 0.9081 - val_loss: 0.3279 - val_accuracy: 0.8700\n",
      "Epoch 3/3\n",
      "391/391 [==============================] - 168s 430ms/step - loss: 0.1460 - accuracy: 0.9501 - val_loss: 0.4070 - val_accuracy: 0.8641\n",
      "Desempeño (exactitud): accu_v1=0.864080011844635 , accu_v2=0.8408399820327759\n",
      "Epoch 1/3\n",
      "391/391 [==============================] - 169s 433ms/step - loss: 0.2166 - accuracy: 0.9216 - val_loss: 0.2084 - val_accuracy: 0.9237\n",
      "Epoch 2/3\n",
      "391/391 [==============================] - 169s 433ms/step - loss: 0.1059 - accuracy: 0.9674 - val_loss: 0.3111 - val_accuracy: 0.9012\n",
      "Epoch 3/3\n",
      "391/391 [==============================] - 169s 431ms/step - loss: 0.0568 - accuracy: 0.9828 - val_loss: 0.3309 - val_accuracy: 0.9078\n",
      "Desempeño (exactitud): accu_v1=0.9077600240707397 , accu_v2=0.8552799820899963\n",
      "Epoch 1/3\n",
      "391/391 [==============================] - 167s 428ms/step - loss: 0.1544 - accuracy: 0.9484 - val_loss: 0.1461 - val_accuracy: 0.9496\n",
      "Epoch 2/3\n",
      "391/391 [==============================] - 168s 429ms/step - loss: 0.0542 - accuracy: 0.9853 - val_loss: 0.1851 - val_accuracy: 0.9400\n",
      "Epoch 3/3\n",
      "391/391 [==============================] - 170s 434ms/step - loss: 0.0260 - accuracy: 0.9931 - val_loss: 0.1983 - val_accuracy: 0.9394\n",
      "Desempeño (exactitud): accu_v1=0.9393600225448608 , accu_v2=0.8553199768066406\n",
      "+--------+--------+--------+\n",
      "| Exac_E | Exac_V | Exac_P |\n",
      "+--------+--------+--------+\n",
      "| 0.9707 | 0.8641 | 0.8408 |\n",
      "| 0.9909 | 0.9078 | 0.8553 |\n",
      "| 0.9986 | 0.9394 | 0.8553 |\n",
      "+--------+--------+--------+\n"
     ]
    }
   ],
   "source": [
    "# Inicializamos la tabla donde guardamos los resultados\n",
    "x = PrettyTable([\"Exac_E\", \"Exac_V\", \"Exac_P\"])\n",
    "\n",
    "# Definimos el número máximo de iteraciones (épocas de la red)\n",
    "epocas=3\n",
    "\n",
    "# Definimos los parametros del Adam\n",
    "adam = keras.optimizers.Adam(lr=0.001, beta_1=0.9, beta_2=0.999)\n",
    "\n",
    "# Inicializamos el error \n",
    "err_p = 999\n",
    "\n",
    "for i in range(0,3,1):\n",
    "    r = i^3\n",
    "    CE_x, CV_x, CE_y, CV_y = train_test_split(x_train, y_train, test_size = 0.5, random_state = r)\n",
    "          \n",
    "    # Definimos el método de optimización con respecto a su funcion de pérdida (además guardamos la exactitud para cada iteracion)\n",
    "    model = keras.Model(inputs, outputs)\n",
    "    model.compile(loss='binary_crossentropy', optimizer=adam, metrics=['accuracy'])\n",
    "    \n",
    "    # Ajustamos el modelo\n",
    "    history=model.fit(x=CE_x, y=CE_y, epochs=epocas, validation_data=(CV_x, CV_y), verbose=1, shuffle=False)\n",
    "      \n",
    "    # Calculamos las metricas\n",
    "    train_metrics = model.evaluate(x=CE_x, y=CE_y, verbose=0)\n",
    "    valid_metrics = model.evaluate(x=CV_x, y=CV_y, verbose=0)\n",
    "    test_metrics = model.evaluate(x=x_val, y=y_val, verbose=0)\n",
    "    \n",
    "    # Guardamos las métricas de desempeño\n",
    "    accu_e = train_metrics[1]\n",
    "    loss_e = train_metrics[0]\n",
    "    accu_v = valid_metrics[1]\n",
    "    loss_v = valid_metrics[0]\n",
    "    accu_p = test_metrics[1]\n",
    "    loss_p = test_metrics[0]\n",
    "    \n",
    "    if (loss_p < err_p):\n",
    "        pathr =('GRU55_part='+str(r)+'.h5')\n",
    "        model.save(pathr) \n",
    "        err_p = loss_p\n",
    "    \n",
    "    # Imprimimos el desempeño para cada repetición\n",
    "    print('Desempeño (exactitud): accu_v1='+str(accu_v) +' , accu_v2='+str(accu_p))\n",
    "    \n",
    "    x.add_row([np.round(accu_e,4), np.round(accu_v,4), np.round(accu_p,4)])\n",
    "\n",
    "print(x)\n"
   ]
  },
  {
   "cell_type": "code",
   "execution_count": null,
   "metadata": {
    "colab": {
     "base_uri": "https://localhost:8080/",
     "height": 573
    },
    "executionInfo": {
     "elapsed": 676,
     "status": "ok",
     "timestamp": 1603060402988,
     "user": {
      "displayName": "Fernanda Romero",
      "photoUrl": "https://lh3.googleusercontent.com/a-/AOh14Ggn57zzeejaFpU7BqEy5vs9bWp0uHirxefVCGvkrQ=s64",
      "userId": "00184701712889740152"
     },
     "user_tz": 300
    },
    "id": "t99k7Pwcjn9A",
    "outputId": "039e30ad-417d-4ade-ac3f-fd79121209f8"
   },
   "outputs": [
    {
     "data": {
      "image/png": "[encoded data removed]",
      "text/plain": [
       "<Figure size 432x288 with 1 Axes>"
      ]
     },
     "metadata": {
      "needs_background": "light",
      "tags": []
     },
     "output_type": "display_data"
    },
    {
     "data": {
      "image/png": "[encoded data removed]",
      "text/plain": [
       "<Figure size 432x288 with 1 Axes>"
      ]
     },
     "metadata": {
      "needs_background": "light",
      "tags": []
     },
     "output_type": "display_data"
    }
   ],
   "source": [
    "plt.figure(1)\n",
    "plt.plot(history.history['accuracy'])  \n",
    "plt.plot(history.history['val_accuracy'])  \n",
    "plt.title('Exactitud')  \n",
    "plt.ylabel('Acc')  \n",
    "plt.xlabel('Epoca')  \n",
    "plt.legend(['Entreno', 'Validacion'], loc='lower right')\n",
    "plt.show()\n",
    "\n",
    "plt.figure(1) \n",
    "plt.plot(history.history['loss'])  \n",
    "plt.plot(history.history['val_loss'])  \n",
    "plt.title('Pérdida')  \n",
    "plt.ylabel('Pérdida')  \n",
    "plt.xlabel('Epoca')  \n",
    "plt.legend(['Entreno', 'Validación'], loc='upper right')  \n",
    "plt.show()"
   ]
  },
  {
   "cell_type": "code",
   "execution_count": null,
   "metadata": {
    "colab": {
     "base_uri": "https://localhost:8080/",
     "height": 340
    },
    "executionInfo": {
     "elapsed": 628,
     "status": "ok",
     "timestamp": 1603060450307,
     "user": {
      "displayName": "Fernanda Romero",
      "photoUrl": "https://lh3.googleusercontent.com/a-/AOh14Ggn57zzeejaFpU7BqEy5vs9bWp0uHirxefVCGvkrQ=s64",
      "userId": "00184701712889740152"
     },
     "user_tz": 300
    },
    "id": "wpdCkVCrjn9R",
    "outputId": "37818511-97fd-4425-8b68-cf9202351fb0"
   },
   "outputs": [
    {
     "name": "stdout",
     "output_type": "stream",
     "text": [
      "WARNING:tensorflow:Layer gru_6 will not use cuDNN kernel since it doesn't meet the cuDNN kernel criteria. It will use generic GPU kernel as fallback when running on GPU\n",
      "Model: \"functional_41\"\n",
      "_________________________________________________________________\n",
      "Layer (type)                 Output Shape              Param #   \n",
      "=================================================================\n",
      "input_7 (InputLayer)         [(None, None)]            0         \n",
      "_________________________________________________________________\n",
      "embedding_6 (Embedding)      (None, None, 110)         2200000   \n",
      "_________________________________________________________________\n",
      "gru_6 (GRU)                  (None, None, 55)          27555     \n",
      "_________________________________________________________________\n",
      "gru_7 (GRU)                  (None, 55)                18480     \n",
      "_________________________________________________________________\n",
      "dense_6 (Dense)              (None, 1)                 56        \n",
      "=================================================================\n",
      "Total params: 2,246,091\n",
      "Trainable params: 2,246,091\n",
      "Non-trainable params: 0\n",
      "_________________________________________________________________\n"
     ]
    }
   ],
   "source": [
    "# GRU 8\n",
    "model_gru55 = load_model('GRU55_part=3.h5')\n",
    "\n",
    "model_gru55.summary()"
   ]
  },
  {
   "cell_type": "code",
   "execution_count": null,
   "metadata": {
    "colab": {
     "base_uri": "https://localhost:8080/",
     "height": 68
    },
    "executionInfo": {
     "elapsed": 55918,
     "status": "ok",
     "timestamp": 1603060506905,
     "user": {
      "displayName": "Fernanda Romero",
      "photoUrl": "https://lh3.googleusercontent.com/a-/AOh14Ggn57zzeejaFpU7BqEy5vs9bWp0uHirxefVCGvkrQ=s64",
      "userId": "00184701712889740152"
     },
     "user_tz": 300
    },
    "id": "OZwPLI4Cjn9c",
    "outputId": "c557b81a-109a-4fc0-8c7a-b720a1222df2"
   },
   "outputs": [
    {
     "name": "stdout",
     "output_type": "stream",
     "text": [
      "[[11929   571]\n",
      " [ 1494 11006]]\n",
      "Exactitud:  0.9174000024795532\n"
     ]
    }
   ],
   "source": [
    "Y_predt = model_gru55.predict(x_train)\n",
    "Y_predst = (Y_predt > 0.5)\n",
    "\n",
    "print(confusion_matrix(y_train, Y_predst))\n",
    "print(\"Exactitud: \", model_gru55.evaluate(x=x_train, y=y_train, verbose=0)[1])"
   ]
  },
  {
   "cell_type": "code",
   "execution_count": null,
   "metadata": {
    "colab": {
     "base_uri": "https://localhost:8080/",
     "height": 68
    },
    "executionInfo": {
     "elapsed": 106362,
     "status": "ok",
     "timestamp": 1603060561377,
     "user": {
      "displayName": "Fernanda Romero",
      "photoUrl": "https://lh3.googleusercontent.com/a-/AOh14Ggn57zzeejaFpU7BqEy5vs9bWp0uHirxefVCGvkrQ=s64",
      "userId": "00184701712889740152"
     },
     "user_tz": 300
    },
    "id": "kBxtSXiUjn9m",
    "outputId": "ea512bf5-2c03-4df0-8148-59891a7d0265"
   },
   "outputs": [
    {
     "name": "stdout",
     "output_type": "stream",
     "text": [
      "[[11418  1082]\n",
      " [ 2897  9603]]\n",
      "Exactitud:  0.8408399820327759\n"
     ]
    }
   ],
   "source": [
    "Y_predv = model_gru55.predict(x_val)\n",
    "Y_predsv = (Y_predv > 0.5)\n",
    "\n",
    "print(confusion_matrix(y_val, Y_predsv))\n",
    "print(\"Exactitud: \", model_gru55.evaluate(x=x_val, y=y_val, verbose=0)[1])"
   ]
  },
  {
   "cell_type": "markdown",
   "metadata": {
    "id": "BjENlWubOqOd"
   },
   "source": [
    "- Se evidencia que al reducir las dimensiones del vector, en este caso en 110, se presenta una mejor exactitud en validación (0.8408399820327759) que en los anteriores modelos.\n"
   ]
  },
  {
   "cell_type": "markdown",
   "metadata": {
    "id": "VyXHlN3W4vbP"
   },
   "source": [
    "# Conclusiones\n",
    "\n",
    "\n",
    "*   Al disminuir el número de dimensiones del vector representado se obtienen mejores estimaciones respecto al sentimiento de los comentarios de la base de datos de IMDB. Esto es particularmente cierto en la red GRU, donde se probaron vectores de 110 y 32 dimensiones. El modelo de 110 dimensiones arrojó la mejor estimación de las obtenidas al calcularla con una función de activación RELU y una capa de salida con activación sigmoide. \n",
    "*   Durante el transcurso del ejercicio fueron utilizados otros optimizadores distintos a Adam (tales como SGD y RMSProp), fue posible concluir que Adam es el optimizador que permite minimizar el error cometido por la red en comparación de otros estimadores. En este sentido, se recomienda seguir utilizando Adam como el optimizador para la clasificación.\n",
    "*   La red bidireccional LSTM arrojó mejores resultados que la red unidireccional LSTM con la vetorización 128-dimensional que cada uno de los enteros o palabaras. Por esta razón, se concluye que la mejor manera de incrementar la precisión es disminuyendo el número de dimensiones resultante de la vectorización.\n",
    "\n",
    "\n"
   ]
  }
 ],
 "metadata": {
  "accelerator": "GPU",
  "colab": {
   "collapsed_sections": [
    "AS7ELMBhTzaq",
    "G5HUWcg9TzbK",
    "q20zbZZ9Tzbe"
   ],
   "name": "Semana8_RedNeuronalRecurrente_LSTMBidireccional_Actividad.ipynb",
   "provenance": [],
   "toc_visible": true
  },
  "coursera": {
   "course_slug": "neural-networks-deep-learning",
   "graded_item_id": "wRuwL",
   "launcher_item_id": "NI888"
  },
  "kernelspec": {
   "display_name": "Python 3",
   "language": "python",
   "name": "python3"
  },
  "language_info": {
   "codemirror_mode": {
    "name": "ipython",
    "version": 3
   },
   "file_extension": ".py",
   "mimetype": "text/x-python",
   "name": "python",
   "nbconvert_exporter": "python",
   "pygments_lexer": "ipython3",
   "version": "3.7.3"
  }
 },
 "nbformat": 4,
 "nbformat_minor": 1
}
